{
 "cells": [
  {
   "cell_type": "markdown",
   "metadata": {},
   "source": [
    "## https://realpython.com/python-keras-text-classification ##"
   ]
  },
  {
   "cell_type": "code",
   "execution_count": 1,
   "metadata": {},
   "outputs": [],
   "source": [
    "import pandas as pd"
   ]
  },
  {
   "cell_type": "markdown",
   "metadata": {},
   "source": [
    "# 1. Choosing a Data Set #\n",
    "\n",
    "corpus: collection of texts \n",
    "\n",
    "vocabulary: list of words which occurred in the text, where each word has its own index\n",
    "\n",
    "feature vector: result of vectorising a sentence, can be a numerical or categorical feature; in this case a count for each word in the vocabulary\n"
   ]
  },
  {
   "cell_type": "code",
   "execution_count": 2,
   "metadata": {},
   "outputs": [
    {
     "name": "stdout",
     "output_type": "stream",
     "text": [
      "sentence    Wow... Loved this place.\n",
      "label                              1\n",
      "source                          yelp\n",
      "Name: 0, dtype: object\n"
     ]
    }
   ],
   "source": [
    "filepath_dict = {'yelp':   'sentiment_analysis/yelp_labelled.txt',\n",
    "                 'amazon': 'sentiment_analysis/amazon_cells_labelled.txt',\n",
    "                 'imdb':   'sentiment_analysis/imdb_labelled.txt'}\n",
    "\n",
    "df_list = []\n",
    "for source, filepath in filepath_dict.items():\n",
    "    df = pd.read_csv(filepath, names=['sentence', 'label'], sep='\\t')\n",
    "    df['source'] = source  # Add another column filled with the source name\n",
    "    df_list.append(df)\n",
    "\n",
    "df = pd.concat(df_list)\n",
    "print(df.iloc[0])"
   ]
  },
  {
   "cell_type": "code",
   "execution_count": 3,
   "metadata": {},
   "outputs": [],
   "source": [
    "sentences = ['John likes ice cream', 'John hates chocolate.']"
   ]
  },
  {
   "cell_type": "code",
   "execution_count": 4,
   "metadata": {},
   "outputs": [
    {
     "data": {
      "text/plain": [
       "CountVectorizer(analyzer='word', binary=False, decode_error='strict',\n",
       "                dtype=<class 'numpy.int64'>, encoding='utf-8', input='content',\n",
       "                lowercase=False, max_df=1.0, max_features=None, min_df=0,\n",
       "                ngram_range=(1, 1), preprocessor=None, stop_words=None,\n",
       "                strip_accents=None, token_pattern='(?u)\\\\b\\\\w\\\\w+\\\\b',\n",
       "                tokenizer=None, vocabulary=None)"
      ]
     },
     "execution_count": 4,
     "metadata": {},
     "output_type": "execute_result"
    }
   ],
   "source": [
    "from sklearn.feature_extraction.text import CountVectorizer\n",
    "\n",
    "vectorizer = CountVectorizer(min_df=0, lowercase=False)\n",
    "vectorizer"
   ]
  },
  {
   "cell_type": "code",
   "execution_count": 5,
   "metadata": {},
   "outputs": [
    {
     "data": {
      "text/plain": [
       "CountVectorizer(analyzer='word', binary=False, decode_error='strict',\n",
       "                dtype=<class 'numpy.int64'>, encoding='utf-8', input='content',\n",
       "                lowercase=False, max_df=1.0, max_features=None, min_df=0,\n",
       "                ngram_range=(1, 1), preprocessor=None, stop_words=None,\n",
       "                strip_accents=None, token_pattern='(?u)\\\\b\\\\w\\\\w+\\\\b',\n",
       "                tokenizer=None, vocabulary=None)"
      ]
     },
     "execution_count": 5,
     "metadata": {},
     "output_type": "execute_result"
    }
   ],
   "source": [
    "vectorizer.fit(sentences)"
   ]
  },
  {
   "cell_type": "code",
   "execution_count": 6,
   "metadata": {},
   "outputs": [
    {
     "data": {
      "text/plain": [
       "{'John': 0, 'likes': 5, 'ice': 4, 'cream': 2, 'hates': 3, 'chocolate': 1}"
      ]
     },
     "execution_count": 6,
     "metadata": {},
     "output_type": "execute_result"
    }
   ],
   "source": [
    "vectorizer.vocabulary_"
   ]
  },
  {
   "cell_type": "code",
   "execution_count": 7,
   "metadata": {},
   "outputs": [
    {
     "data": {
      "text/plain": [
       "<2x6 sparse matrix of type '<class 'numpy.int64'>'\n",
       "\twith 7 stored elements in Compressed Sparse Row format>"
      ]
     },
     "execution_count": 7,
     "metadata": {},
     "output_type": "execute_result"
    }
   ],
   "source": [
    "vectorizer.transform(sentences)"
   ]
  },
  {
   "cell_type": "code",
   "execution_count": 8,
   "metadata": {},
   "outputs": [
    {
     "data": {
      "text/plain": [
       "array([[1, 0, 1, 0, 1, 1],\n",
       "       [1, 1, 0, 1, 0, 0]], dtype=int64)"
      ]
     },
     "execution_count": 8,
     "metadata": {},
     "output_type": "execute_result"
    }
   ],
   "source": [
    "vectorizer.transform(sentences).toarray()"
   ]
  },
  {
   "cell_type": "markdown",
   "metadata": {},
   "source": [
    "This is considered a **Bag-of-words (BOW) model**, which is a common way in NLP to create vectors out of text. Each document is represented as a vector. You can use these vectors now as feature vectors for a machine learning model. "
   ]
  },
  {
   "cell_type": "markdown",
   "metadata": {},
   "source": [
    "# 2. Defining a Baseline Model\n",
    "\n",
    "if a model generalises well: whether the model is able to perform well on data it has not seen before\n",
    "\n",
    "overfitting: when a model is trained too well; it memorised the training data resulting in high training accuracy but low testing accuracy"
   ]
  },
  {
   "cell_type": "code",
   "execution_count": 9,
   "metadata": {},
   "outputs": [
    {
     "data": {
      "text/html": [
       "<div>\n",
       "<style scoped>\n",
       "    .dataframe tbody tr th:only-of-type {\n",
       "        vertical-align: middle;\n",
       "    }\n",
       "\n",
       "    .dataframe tbody tr th {\n",
       "        vertical-align: top;\n",
       "    }\n",
       "\n",
       "    .dataframe thead th {\n",
       "        text-align: right;\n",
       "    }\n",
       "</style>\n",
       "<table border=\"1\" class=\"dataframe\">\n",
       "  <thead>\n",
       "    <tr style=\"text-align: right;\">\n",
       "      <th></th>\n",
       "      <th>sentence</th>\n",
       "      <th>label</th>\n",
       "      <th>source</th>\n",
       "    </tr>\n",
       "  </thead>\n",
       "  <tbody>\n",
       "    <tr>\n",
       "      <th>0</th>\n",
       "      <td>Wow... Loved this place.</td>\n",
       "      <td>1</td>\n",
       "      <td>yelp</td>\n",
       "    </tr>\n",
       "    <tr>\n",
       "      <th>1</th>\n",
       "      <td>Crust is not good.</td>\n",
       "      <td>0</td>\n",
       "      <td>yelp</td>\n",
       "    </tr>\n",
       "    <tr>\n",
       "      <th>2</th>\n",
       "      <td>Not tasty and the texture was just nasty.</td>\n",
       "      <td>0</td>\n",
       "      <td>yelp</td>\n",
       "    </tr>\n",
       "    <tr>\n",
       "      <th>3</th>\n",
       "      <td>Stopped by during the late May bank holiday of...</td>\n",
       "      <td>1</td>\n",
       "      <td>yelp</td>\n",
       "    </tr>\n",
       "    <tr>\n",
       "      <th>4</th>\n",
       "      <td>The selection on the menu was great and so wer...</td>\n",
       "      <td>1</td>\n",
       "      <td>yelp</td>\n",
       "    </tr>\n",
       "  </tbody>\n",
       "</table>\n",
       "</div>"
      ],
      "text/plain": [
       "                                            sentence  label source\n",
       "0                           Wow... Loved this place.      1   yelp\n",
       "1                                 Crust is not good.      0   yelp\n",
       "2          Not tasty and the texture was just nasty.      0   yelp\n",
       "3  Stopped by during the late May bank holiday of...      1   yelp\n",
       "4  The selection on the menu was great and so wer...      1   yelp"
      ]
     },
     "execution_count": 9,
     "metadata": {},
     "output_type": "execute_result"
    }
   ],
   "source": [
    "from sklearn.model_selection import train_test_split\n",
    "\n",
    "df_yelp = df[df['source'] == 'yelp']\n",
    "df_yelp.head()\n"
   ]
  },
  {
   "cell_type": "code",
   "execution_count": 10,
   "metadata": {},
   "outputs": [
    {
     "data": {
      "text/plain": [
       "array(['Wow... Loved this place.', 'Crust is not good.',\n",
       "       'Not tasty and the texture was just nasty.',\n",
       "       'Stopped by during the late May bank holiday off Rick Steve recommendation and loved it.',\n",
       "       'The selection on the menu was great and so were the prices.',\n",
       "       'Now I am getting angry and I want my damn pho.',\n",
       "       \"Honeslty it didn't taste THAT fresh.)\",\n",
       "       'The potatoes were like rubber and you could tell they had been made up ahead of time being kept under a warmer.',\n",
       "       'The fries were great too.', 'A great touch.',\n",
       "       'Service was very prompt.', 'Would not go back.',\n",
       "       'The cashier had no care what so ever on what I had to say it still ended up being wayyy overpriced.',\n",
       "       'I tried the Cape Cod ravoli, chicken,with cranberry...mmmm!',\n",
       "       'I was disgusted because I was pretty sure that was human hair.',\n",
       "       'I was shocked because no signs indicate cash only.',\n",
       "       'Highly recommended.', 'Waitress was a little slow in service.',\n",
       "       'This place is not worth your time, let alone Vegas.',\n",
       "       'did not like at all.', 'The Burrittos Blah!',\n",
       "       'The food, amazing.', 'Service is also cute.',\n",
       "       'I could care less... The interior is just beautiful.',\n",
       "       'So they performed.',\n",
       "       \"That's right....the red velvet cake.....ohhh this stuff is so good.\",\n",
       "       '- They never brought a salad we asked for.',\n",
       "       'This hole in the wall has great Mexican street tacos, and friendly staff.',\n",
       "       'Took an hour to get our food only 4 tables in restaurant my food was Luke warm, Our sever was running around like he was totally overwhelmed.',\n",
       "       'The worst was the salmon sashimi.',\n",
       "       'Also there are combos like a burger, fries, and beer for 23 which is a decent deal.',\n",
       "       'This was like the final blow!',\n",
       "       'I found this place by accident and I could not be happier.',\n",
       "       'seems like a good quick place to grab a bite of some familiar pub food, but do yourself a favor and look elsewhere.',\n",
       "       'Overall, I like this place a lot.',\n",
       "       'The only redeeming quality of the restaurant was that it was very inexpensive.',\n",
       "       'Ample portions and good prices.',\n",
       "       'Poor service, the waiter made me feel like I was stupid every time he came to the table.',\n",
       "       'My first visit to Hiro was a delight!', 'Service sucks.',\n",
       "       'The shrimp tender and moist.',\n",
       "       'There is not a deal good enough that would drag me into that establishment again.',\n",
       "       \"Hard to judge whether these sides were good because we were grossed out by the melted styrofoam and didn't want to eat it for fear of getting sick.\",\n",
       "       'On a positive note, our server was very attentive and provided great service.',\n",
       "       'Frozen pucks of disgust, with some of the worst people behind the register.',\n",
       "       'The only thing I did like was the prime rib and dessert section.',\n",
       "       \"It's too bad the food is so damn generic.\",\n",
       "       'The burger is good beef, cooked just right.',\n",
       "       'If you want a sandwich just go to any Firehouse!!!!!',\n",
       "       'My side Greek salad with the Greek dressing was so tasty, and the pita and hummus was very refreshing.',\n",
       "       'We ordered the duck rare and it was pink and tender on the inside with a nice char on the outside.',\n",
       "       'He came running after us when he realized my husband had left his sunglasses on the table.',\n",
       "       'Their chow mein is so good!',\n",
       "       \"They have horrible attitudes towards customers, and talk down to each one when customers don't enjoy their food.\",\n",
       "       'The portion was huge!',\n",
       "       'Loved it...friendly servers, great food, wonderful and imaginative menu.',\n",
       "       'The Heart Attack Grill in downtown Vegas is an absolutely flat-lined excuse for a restaurant.',\n",
       "       'Not much seafood and like 5 strings of pasta at the bottom.',\n",
       "       'The salad had just the right amount of sauce to not over power the scallop, which was perfectly cooked.',\n",
       "       'The ripped banana was not only ripped, but petrified and tasteless.',\n",
       "       'At least think to refill my water before I struggle to wave you over for 10 minutes.',\n",
       "       'This place receives stars for their APPETIZERS!!!',\n",
       "       'The cocktails are all handmade and delicious.',\n",
       "       \"We'd definitely go back here again.\",\n",
       "       'We are so glad we found this place.',\n",
       "       'Great food and service, huge portions and they give a military discount.',\n",
       "       'Always a great time at Dos Gringos!',\n",
       "       'Update.....went back for a second time and it was still just as amazing',\n",
       "       'We got the food and apparently they have never heard of salt and the batter on the fish was chewy.',\n",
       "       'A great way to finish a great.',\n",
       "       'The deal included 5 tastings and 2 drinks, and Jeff went above and beyond what we expected.',\n",
       "       '- Really, really good rice, all the time.',\n",
       "       'The service was meh.',\n",
       "       'It took over 30 min to get their milkshake, which was nothing more than chocolate milk.',\n",
       "       \"I guess I should have known that this place would suck, because it is inside of the Excalibur, but I didn't use my common sense.\",\n",
       "       'The scallop dish is quite appalling for value as well.',\n",
       "       '2 times - Very Bad Customer Service !',\n",
       "       'The sweet potato fries were very good and seasoned well.',\n",
       "       \"Today is the second time I've been to their lunch buffet and it was pretty good.\",\n",
       "       'There is so much good food in Vegas that I feel cheated for wasting an eating opportunity by going to Rice and Company.',\n",
       "       \"Coming here is like experiencing an underwhelming relationship where both parties can't wait for the other person to ask to break up.\",\n",
       "       'walked in and the place smelled like an old grease trap and only 2 others there eating.',\n",
       "       'The turkey and roast beef were bland.', 'This place has it!',\n",
       "       'The pan cakes everyone are raving about taste like a sugary disaster tailored to the palate of a six year old.',\n",
       "       'I love the Pho and the spring rolls oh so yummy you have to try.',\n",
       "       'The poor batter to meat ratio made the chicken tenders very unsatisfying.',\n",
       "       'All I have to say is the food was amazing!!!',\n",
       "       'Omelets are to die for!', 'Everything was fresh and delicious!',\n",
       "       'In summary, this was a largely disappointing dining experience.',\n",
       "       \"It's like a really sexy party in your mouth, where you're outrageously flirting with the hottest person at the party.\",\n",
       "       'Never been to Hard Rock Casino before, WILL NEVER EVER STEP FORWARD IN IT AGAIN!',\n",
       "       'Best breakfast buffet!!!', 'say bye bye to your tip lady!',\n",
       "       \"We'll never go again.\", 'Will be back again!',\n",
       "       'Food arrived quickly!', 'It was not good.',\n",
       "       'On the up side, their cafe serves really good food.',\n",
       "       'Our server was fantastic and when he found out the wife loves roasted garlic and bone marrow, he added extra to our meal and another marrow to go!',\n",
       "       \"The only good thing was our waiter, he was very helpful and kept the bloddy mary's coming.\",\n",
       "       'Best Buffet in town, for the price you cannot beat it.',\n",
       "       'I LOVED their mussels cooked in this wine reduction, the duck was tender, and their potato dishes were delicious.',\n",
       "       'This is one of the better buffets that I have been to.',\n",
       "       'So we went to Tigerlilly and had a fantastic afternoon!',\n",
       "       'The food was delicious, our bartender was attentive and personable AND we got a great deal!',\n",
       "       'The ambience is wonderful and there is music playing.',\n",
       "       'Will go back next trip out.', 'Sooooo good!!',\n",
       "       \"REAL sushi lovers, let's be honest - Yama is not that good.\",\n",
       "       \"At least 40min passed in between us ordering and the food arriving, and it wasn't that busy.\",\n",
       "       'This is a really fantastic Thai restaurant which is definitely worth a visit.',\n",
       "       'Nice, spicy and tender.', 'Good prices.', 'Check it out.',\n",
       "       'It was pretty gross!', \"I've had better atmosphere.\",\n",
       "       'Kind of hard to mess up a steak but they did.',\n",
       "       'Although I very much liked the look and sound of this place, the actual experience was a bit disappointing.',\n",
       "       \"I just don't know how this place managed to served the blandest food I have ever eaten when they are preparing Indian cuisine.\",\n",
       "       'Worst service to boot, but that is the least of their worries.',\n",
       "       'Service was fine and the waitress was friendly.',\n",
       "       \"The guys all had steaks, and our steak loving son who has had steak at the best and worst places said it was the best steak he's ever eaten.\",\n",
       "       \"We thought you'd have to venture further away to get good sushi, but this place really hit the spot that night.\",\n",
       "       'Host staff were, for lack of a better word, BITCHES!',\n",
       "       \"Bland... Not a liking this place for a number of reasons and I don't want to waste time on bad reviewing.. I'll leave it at that...\",\n",
       "       'Phenomenal food, service and ambiance.', \"I wouldn't return.\",\n",
       "       \"Definitely worth venturing off the strip for the pork belly, will return next time I'm in Vegas.\",\n",
       "       'This place is way too overpriced for mediocre food.',\n",
       "       'Penne vodka excellent!',\n",
       "       'They have a good selection of food including a massive meatloaf sandwich, a crispy chicken wrap, a delish tuna melt and some tasty burgers.',\n",
       "       'The management is rude.',\n",
       "       'Delicious NYC bagels, good selections of cream cheese, real Lox with capers even.',\n",
       "       \"Great Subway, in fact it's so good when you come here every other Subway will not meet your expectations.\",\n",
       "       'I had a seriously solid breakfast here.',\n",
       "       'This is one of the best bars with food in Vegas.',\n",
       "       'He was extremely rude and really, there are so many other restaurants I would love to dine at during a weekend in Vegas.',\n",
       "       'My drink was never empty and he made some really great menu suggestions.',\n",
       "       \"Don't do it!!!!\",\n",
       "       \"The waiter wasn't helpful or friendly and rarely checked on us.\",\n",
       "       'My husband and I ate lunch here and were very disappointed with the food and service.',\n",
       "       \"And the red curry had so much bamboo shoots and wasn't very tasty to me.\",\n",
       "       'Nice blanket of moz over top but i feel like this was done to cover up the subpar food.',\n",
       "       'The bathrooms are clean and the place itself is well decorated.',\n",
       "       'The menu is always changing, food quality is going down & service is extremely slow.',\n",
       "       'The service was a little slow , considering that were served by 3 people servers so the food was coming in a slow pace.',\n",
       "       'I give it 2 thumbs down',\n",
       "       'We watched our waiter pay a lot more attention to other tables and ignore us.',\n",
       "       'My fiancé and I came in the middle of the day and we were greeted and seated right away.',\n",
       "       'This is a great restaurant at the Mandalay Bay.',\n",
       "       'We waited for forty five minutes in vain.',\n",
       "       'Crostini that came with the salad was stale.',\n",
       "       'Some highlights : Great quality nigiri here!',\n",
       "       'the staff is friendly and the joint is always clean.',\n",
       "       'this was a different cut than the piece the other day but still wonderful and tender s well as well flavored.',\n",
       "       \"I ordered the Voodoo pasta and it was the first time I'd had really excellent pasta since going gluten free several years ago.\",\n",
       "       'this place is good.',\n",
       "       'Unfortunately, we must have hit the bakery on leftover day because everything we ordered was STALE.',\n",
       "       'I came back today since they relocated and still not impressed.',\n",
       "       'I was seated immediately.',\n",
       "       'Their menu is diverse, and reasonably priced.',\n",
       "       'Avoid at all cost!',\n",
       "       'Restaurant is always full but never a wait.', 'DELICIOUS!!',\n",
       "       'This place is hands-down one of the best places to eat in the Phoenix metro area.',\n",
       "       \"So don't go there if you are looking for good food...\",\n",
       "       \"I've never been treated so bad.\", 'Bacon is hella salty.',\n",
       "       'We also ordered the spinach and avocado salad; the ingredients were sad and the dressing literally had zero taste.',\n",
       "       'This really is how Vegas fine dining used to be, right down to the menus handed to the ladies that have no prices listed.',\n",
       "       'The waitresses are very friendly.',\n",
       "       'Lordy, the Khao Soi is a dish that is not to be missed for curry lovers!',\n",
       "       'Everything on the menu is terrific and we were also thrilled that they made amazing accommodations for our vegetarian daughter.',\n",
       "       \"Perhaps I caught them on an off night judging by the other reviews, but I'm not inspired to go back.\",\n",
       "       'The service here leaves a lot to be desired.',\n",
       "       'The atmosphere is modern and hip, while maintaining a touch of coziness.',\n",
       "       'Not a weekly haunt, but definitely a place to come back to every once in a while.',\n",
       "       'We literally sat there for 20 minutes with no one asking to take our order.',\n",
       "       'The burger had absolutely no flavor - the meat itself was totally bland, the burger was overcooked and there was no charcoal flavor.',\n",
       "       'I also decided not to send it back because our waitress looked like she was on the verge of having a heart attack.',\n",
       "       'I dressed up to be treated so rudely!', 'It was probably dirt.',\n",
       "       'Love this place, hits the spot when I want something healthy but not lacking in quantity or flavor.',\n",
       "       'I ordered the Lemon raspberry ice cocktail which was also incredible.',\n",
       "       'The food sucked, which we expected but it sucked more than we could have imagined.',\n",
       "       'Interesting decor.',\n",
       "       'What I really like there is the crepe station.',\n",
       "       'Also were served hot bread and butter, and home made potato chips with bacon bits on top....very original and very good.',\n",
       "       'you can watch them preparing the delicious food!)',\n",
       "       'Both of the egg rolls were fantastic.',\n",
       "       'When my order arrived, one of the gyros was missing.',\n",
       "       'I had a salad with the wings, and some ice cream for dessert and left feeling quite satisfied.',\n",
       "       \"I'm not really sure how Joey's was voted best hot dog in the Valley by readers of Phoenix Magazine.\",\n",
       "       'The best place to go for a tasty bowl of Pho!',\n",
       "       'The live music on Fridays totally blows.',\n",
       "       \"I've never been more insulted or felt disrespected.\",\n",
       "       'Very friendly staff.', 'It is worth the drive.',\n",
       "       'I had heard good things about this place, but it exceeding every hope I could have dreamed of.',\n",
       "       'Food was great and so was the serivce!',\n",
       "       \"The warm beer didn't help.\", 'Great brunch spot.',\n",
       "       'Service is friendly and inviting.', 'Very good lunch spot.',\n",
       "       \"I've lived here since 1979 and this was the first (and last) time I've stepped foot into this place.\",\n",
       "       'The WORST EXPERIENCE EVER.',\n",
       "       'Must have been an off night at this place.',\n",
       "       'The sides are delish - mixed mushrooms, yukon gold puree, white corn - beateous.',\n",
       "       'If that bug never showed up I would have given a 4 for sure, but on the other side of the wall where this bug was climbing was the kitchen.',\n",
       "       \"For about 10 minutes, we we're waiting for her salad when we realized that it wasn't coming any time soon.\",\n",
       "       'My friend loved the salmon tartar.', \"Won't go back.\",\n",
       "       'Extremely Tasty!', 'Waitress was good though!',\n",
       "       'Soggy and not good.', 'The Jamaican mojitos are delicious.',\n",
       "       'Which are small and not worth the price.',\n",
       "       '- the food is rich so order accordingly.',\n",
       "       \"The shower area is outside so you can only rinse, not take a full shower, unless you don't mind being nude for everyone to see!\",\n",
       "       'The service was a bit lacking.',\n",
       "       'Lobster Bisque, Bussell Sprouts, Risotto, Filet ALL needed salt and pepper..and of course there is none at the tables.',\n",
       "       'Hopefully this bodes for them going out of business and someone who can cook can come in.',\n",
       "       'It was either too cold, not enough flavor or just bad.',\n",
       "       'I loved the bacon wrapped dates.',\n",
       "       'This is an unbelievable BARGAIN!',\n",
       "       'The folks at Otto always make us feel so welcome and special.',\n",
       "       'As for the \"mains,\" also uninspired.',\n",
       "       'This is the place where I first had pho and it was amazing!!',\n",
       "       'This wonderful experience made this place a must-stop whenever we are in town again.',\n",
       "       \"If the food isn't bad enough for you, then enjoy dealing with the world's worst/annoying drunk people.\",\n",
       "       'Very very fun chef.',\n",
       "       'Ordered a double cheeseburger & got a single patty that was falling apart (picture uploaded) Yeah, still sucks.',\n",
       "       \"Great place to have a couple drinks and watch any and all sporting events as the walls are covered with TV's.\",\n",
       "       \"If it were possible to give them zero stars, they'd have it.\",\n",
       "       'The descriptions said \"yum yum sauce\" and another said \"eel sauce\", yet another said \"spicy mayo\"...well NONE of the rolls had sauces on them.',\n",
       "       \"I'd say that would be the hardest decision... Honestly, all of M's dishes taste how they are supposed to taste (amazing).\",\n",
       "       'If she had not rolled the eyes we may have stayed... Not sure if we will go back and try it again.',\n",
       "       'Everyone is very attentive, providing excellent customer service.',\n",
       "       \"Horrible - don't waste your time and money.\",\n",
       "       'Now this dish was quite flavourful.',\n",
       "       'By this time our side of the restaurant was almost empty so there was no excuse.',\n",
       "       \"(It wasn't busy either) Also, the building was FREEZING cold.\",\n",
       "       'like the other reviewer said \"you couldn\\'t pay me to eat at this place again.\"',\n",
       "       '-Drinks took close to 30 minutes to come out at one point.',\n",
       "       'Seriously flavorful delights, folks.',\n",
       "       'Much better than the other AYCE sushi place I went to in Vegas.',\n",
       "       'The lighting is just dark enough to set the mood.',\n",
       "       \"Based on the sub-par service I received and no effort to show their gratitude for my business I won't be going back.\",\n",
       "       \"Owner's are really great people.!\",\n",
       "       'There is nothing privileged about working/eating there.',\n",
       "       'The Greek dressing was very creamy and flavorful.',\n",
       "       \"Overall, I don't think that I would take my parents to this place again because they made most of the similar complaints that I silently felt too.\",\n",
       "       'Now the pizza itself was good the peanut sauce was very tasty.',\n",
       "       'We had 7 at our table and the service was pretty fast.',\n",
       "       'Fantastic service here.',\n",
       "       \"I as well would've given godfathers zero stars if possible.\",\n",
       "       'They know how to make them here.',\n",
       "       'very tough and very short on flavor!',\n",
       "       'I hope this place sticks around.',\n",
       "       'I have been in more than a few bars in Vegas, and do not ever recall being charged for tap water.',\n",
       "       'The restaurant atmosphere was exquisite.',\n",
       "       'Good service, very clean, and inexpensive, to boot!',\n",
       "       'The seafood was fresh and generous in portion.',\n",
       "       \"Plus, it's only 8 bucks.\",\n",
       "       'The service was not up to par, either.',\n",
       "       'Thus far, have only visited twice and the food was absolutely delicious each time.',\n",
       "       'Just as good as when I had it more than a year ago!',\n",
       "       'For a self proclaimed coffee cafe, I was wildly disappointed.',\n",
       "       'The Veggitarian platter is out of this world!',\n",
       "       'You cant go wrong with any of the food here.',\n",
       "       \"You can't beat that.\",\n",
       "       'Stopped by this place while in Madison for the Ironman, very friendly, kind staff.',\n",
       "       'The chefs were friendly and did a good job.',\n",
       "       \"I've had better, not only from dedicated boba tea spots, but even from Jenni Pho.\",\n",
       "       'I liked the patio and the service was outstanding.',\n",
       "       \"The goat taco didn't skimp on the meat and wow what FLAVOR!\",\n",
       "       'I think not again',\n",
       "       'I had the mac salad and it was pretty bland so I will not be getting that again.',\n",
       "       \"I went to Bachi Burger on a friend's recommendation and was not disappointed.\",\n",
       "       'Service stinks here!', 'I waited and waited.',\n",
       "       'This place is not quality sushi, it is not a quality restaurant.',\n",
       "       'I would definitely recommend the wings as well as the pizza.',\n",
       "       'Great Pizza and Salads!',\n",
       "       'Things that went wrong: - They burned the saganaki.',\n",
       "       'We waited an hour for what was a breakfast I could have done 100 times better at home.',\n",
       "       'This place is amazing!',\n",
       "       'I hate to disagree with my fellow Yelpers, but my husband and I were so disappointed with this place.',\n",
       "       'Waited 2 hours & never got either of our pizzas as many other around us who came in later did!',\n",
       "       \"Just don't know why they were so slow.\",\n",
       "       'The staff is great, the food is delish, and they have an incredible beer selection.',\n",
       "       \"I live in the neighborhood so I am disappointed I won't be back here, because it is a convenient location.\",\n",
       "       \"I didn't know pulled pork could be soooo delicious.\",\n",
       "       'You get incredibly fresh fish, prepared with care.',\n",
       "       'Before I go in to why I gave a 1 star rating please know that this was my third time eating at Bachi burger before writing a review.',\n",
       "       'I love the fact that everything on their menu is worth it.',\n",
       "       'Never again will I be dining at this place!',\n",
       "       'The food was excellent and service was very good.',\n",
       "       'Good beer & drink selection and good food selection.',\n",
       "       'Please stay away from the shrimp stir fried noodles.',\n",
       "       'The potato chip order was sad... I could probably count how many chips were in that box and it was probably around 12.',\n",
       "       'Food was really boring.', 'Good Service-check!',\n",
       "       'This greedy corporation will NEVER see another dime from me!',\n",
       "       'Will never, ever go back.',\n",
       "       \"As much as I'd like to go back, I can't get passed the atrocious service and will never return.\",\n",
       "       'In the summer, you can dine in a charming outdoor patio - so very delightful.',\n",
       "       'I did not expect this to be so good!', 'Fantastic food!',\n",
       "       'She ordered a toasted English muffin that came out untoasted.',\n",
       "       'The food was very good.', 'Never going back.',\n",
       "       'Great food for the price, which is very high quality and house made.',\n",
       "       'The bus boy on the other hand was so rude.',\n",
       "       \"By this point, my friends and I had basically figured out this place was a joke and didn't mind making it publicly and loudly known.\",\n",
       "       'Back to good BBQ, lighter fare, reasonable pricing and tell the public they are back to the old ways.',\n",
       "       \"And considering the two of us left there very full and happy for about $20, you just can't go wrong.\",\n",
       "       'All the bread is made in-house!',\n",
       "       'The only downside is the service.',\n",
       "       \"Also, the fries are without a doubt the worst fries I've ever had.\",\n",
       "       'Service was exceptional and food was a good as all the reviews.',\n",
       "       'A couple of months later, I returned and had an amazing meal.',\n",
       "       'Favorite place in town for shawarrrrrrma!!!!!!',\n",
       "       'The black eyed peas and sweet potatoes... UNREAL!',\n",
       "       \"You won't be disappointed.\",\n",
       "       'They could serve it with just the vinaigrette and it may make for a better overall dish, but it was still very good.',\n",
       "       \"I go to far too many places and I've never seen any restaurant that serves a 1 egg breakfast, especially for $4.00.\",\n",
       "       'When my mom and I got home she immediately got sick and she only had a few bites of salad.',\n",
       "       \"The servers are not pleasant to deal with and they don't always honor Pizza Hut coupons.\",\n",
       "       'Both of them were truly unbelievably good, and I am so glad we went back.',\n",
       "       'We had fantastic service, and were pleased by the atmosphere.',\n",
       "       'Everything was gross.', 'I love this place.',\n",
       "       'Great service and food.',\n",
       "       'First - the bathrooms at this location were dirty- Seat covers were not replenished & just plain yucky!!!',\n",
       "       'The burger... I got the \"Gold Standard\" a $17 burger and was kind of disappointed.',\n",
       "       'OMG, the food was delicioso!',\n",
       "       'There is nothing authentic about this place.',\n",
       "       'the spaghetti is nothing special whatsoever.',\n",
       "       'Of all the dishes, the salmon was the best, but all were great.',\n",
       "       'The vegetables are so fresh and the sauce feels like authentic Thai.',\n",
       "       \"It's worth driving up from Tucson!\",\n",
       "       \"The selection was probably the worst I've seen in Vegas.....there was none.\",\n",
       "       'Pretty good beer selection too.',\n",
       "       'This place is like Chipotle, but BETTER.',\n",
       "       'Classy/warm atmosphere, fun and fresh appetizers, succulent steaks (Baseball steak!!!!!',\n",
       "       '5 stars for the brick oven bread app!',\n",
       "       'I have eaten here multiple times, and each time the food was delicious.',\n",
       "       'We sat another ten minutes and finally gave up and left.',\n",
       "       'He was terrible!', 'Everyone is treated equally special.',\n",
       "       \"It shouldn't take 30 min for pancakes and eggs.\",\n",
       "       'It was delicious!!!',\n",
       "       'On the good side, the staff was genuinely pleasant and enthusiastic - a real treat.',\n",
       "       \"Sadly, Gordon Ramsey's Steak is a place we shall sharply avoid during our next trip to Vegas.\",\n",
       "       'As always the evening was wonderful and the food delicious!',\n",
       "       \"Best fish I've ever had in my life!\",\n",
       "       '(The bathroom is just next door and very nice.)',\n",
       "       'The buffet is small and all the food they offered was BLAND.',\n",
       "       'This is an Outstanding little restaurant with some of the Best Food I have ever tasted.',\n",
       "       'Pretty cool I would say.',\n",
       "       \"Definitely a turn off for me & i doubt I'll be back unless someone else is buying.\",\n",
       "       'Server did a great job handling our large rowdy table.',\n",
       "       \"I find wasting food to be despicable, but this just wasn't food.\",\n",
       "       'My wife had the Lobster Bisque soup which was lukewarm.',\n",
       "       'Would come back again if I had a sushi craving while in Vegas.',\n",
       "       'The staff are great, the ambiance is great.',\n",
       "       'He deserves 5 stars.',\n",
       "       'I left with a stomach ache and felt sick the rest of the day.',\n",
       "       'They dropped more than the ball.',\n",
       "       'The dining space is tiny, but elegantly decorated and comfortable.',\n",
       "       \"They will customize your order any way you'd like, my usual is Eggplant with Green Bean stir fry, love it!\",\n",
       "       'And the beans and rice were mediocre at best.',\n",
       "       'Best tacos in town by far!!',\n",
       "       'I took back my money and got outta there.',\n",
       "       'In an interesting part of town, this place is amazing.',\n",
       "       'RUDE & INCONSIDERATE MANAGEMENT.',\n",
       "       'The staff are now not as friendly, the wait times for being served are horrible, no one even says hi for the first 10 minutes.',\n",
       "       \"I won't be back.\", 'They have great dinners.',\n",
       "       'The service was outshining & I definitely recommend the Halibut.',\n",
       "       'The food was terrible.',\n",
       "       'WILL NEVER EVER GO BACK AND HAVE TOLD MANY PEOPLE WHAT HAD HAPPENED.',\n",
       "       \"I don't recommend unless your car breaks down in front of it and you are starving.\",\n",
       "       \"I will come back here every time I'm in Vegas.\",\n",
       "       'This place deserves one star and 90% has to do with the food.',\n",
       "       'This is a disgrace.', 'Def coming back to bowl next time',\n",
       "       'If you want healthy authentic or ethic food, try this place.',\n",
       "       'I will continue to come here on ladies night andddd date night ... highly recommend this place to anyone who is in the area (;',\n",
       "       'I have been here several times in the past, and the experience has always been great.',\n",
       "       'We walked away stuffed and happy about our first Vegas buffet experience.',\n",
       "       'Service was excellent and prices are pretty reasonable considering this is Vegas and located inside the Crystals shopping mall by Aria.',\n",
       "       'To summarize... the food was incredible, nay, transcendant... but nothing brings me joy quite like the memory of the pneumatic condiment dispenser.',\n",
       "       \"I'm probably one of the few people to ever go to Ians and not like it.\",\n",
       "       'Kids pizza is always a hit too with lots of great side dish options for the kiddos!',\n",
       "       'Service is perfect and the family atmosphere is nice to see.',\n",
       "       'Cooked to perfection and the service was impeccable.',\n",
       "       'This one is simply a disappointment.',\n",
       "       'Overall, I was very disappointed with the quality of food at Bouchon.',\n",
       "       \"I don't have to be an accountant to know I'm getting screwed!\",\n",
       "       'Great place to eat, reminds me of the little mom and pop shops in the San Francisco Bay Area.',\n",
       "       'Today was my first taste of a Buldogis Gourmet Hot Dog and I have to tell you it was more than I ever thought possible.',\n",
       "       'Left very frustrated.', \"I'll definitely be in soon again.\",\n",
       "       'Food was really good and I got full petty fast.',\n",
       "       'Service was fantastic.', 'TOTAL WASTE OF TIME.',\n",
       "       \"I don't know what kind it is but they have the best iced tea.\",\n",
       "       'Come hungry, leave happy and stuffed!',\n",
       "       'For service, I give them no stars.',\n",
       "       \"I can assure you that you won't be disappointed.\",\n",
       "       'I can take a little bad service but the food sucks.',\n",
       "       'Gave up trying to eat any of the crust (teeth still sore).',\n",
       "       'But now I was completely grossed out.',\n",
       "       'I really enjoyed eating here.',\n",
       "       'First time going but I think I will quickly become a regular.',\n",
       "       'Our server was very nice, and even though he looked a little overwhelmed with all of our needs, he stayed professional and friendly until the end.',\n",
       "       'From what my dinner companions told me...everything was very fresh with nice texture and taste.',\n",
       "       'On the ground, right next to our table was a large, smeared, been-stepped-in-and-tracked-everywhere pile of green bird poop.',\n",
       "       \"Furthermore, you can't even find hours of operation on the website!\",\n",
       "       \"We've tried to like this place but after 10+ times I think we're done with them.\",\n",
       "       'What a mistake that was!', 'No complaints!',\n",
       "       \"This is some seriously good pizza and I'm an expert/connisseur on the topic.\",\n",
       "       'Waiter was a jerk.', 'Strike 2, who wants to be rushed.',\n",
       "       \"These are the nicest restaurant owners I've ever come across.\",\n",
       "       'I never come again.', 'We loved the biscuits!!!',\n",
       "       'Service is quick and friendly.',\n",
       "       'Ordered an appetizer and took 40 minutes and then the pizza another 10 minutes.',\n",
       "       'So absolutley fantastic.',\n",
       "       'It was a huge awkward 1.5lb piece of cow that was 3/4ths gristle and fat.',\n",
       "       'definitely will come back here again.',\n",
       "       \"I like Steiners because it's dark and it feels like a bar.\",\n",
       "       'Wow very spicy but delicious.',\n",
       "       \"If you're not familiar, check it out.\",\n",
       "       \"I'll take my business dinner dollars elsewhere.\",\n",
       "       \"I'd love to go back.\",\n",
       "       'Anyway, this FS restaurant has a wonderful breakfast/lunch.',\n",
       "       'Nothing special.',\n",
       "       \"Each day of the week they have a different deal and it's all so delicious!\",\n",
       "       'Not to mention the combination of pears, almonds and bacon is a big winner!',\n",
       "       'Will not be back.', 'Sauce was tasteless.',\n",
       "       'The food is delicious and just spicy enough, so be sure to ask for spicier if you prefer it that way.',\n",
       "       'My ribeye steak was cooked perfectly and had great mesquite flavor.',\n",
       "       \"I don't think we'll be going back anytime soon.\",\n",
       "       'Food was so gooodd.',\n",
       "       'I am far from a sushi connoisseur but I can definitely tell the difference between good food and bad food and this was certainly bad food.',\n",
       "       'I was so insulted.',\n",
       "       'The last 3 times I had lunch here has been bad.',\n",
       "       'The chicken wings contained the driest chicken meat I have ever eaten.',\n",
       "       'The food was very good and I enjoyed every mouthful, an enjoyable relaxed venue for couples small family groups etc.',\n",
       "       'Nargile - I think you are great.',\n",
       "       'Best tater tots in the southwest.', 'We loved the place.',\n",
       "       'Definitely not worth the $3 I paid.',\n",
       "       'The vanilla ice cream was creamy and smooth while the profiterole (choux) pastry was fresh enough.',\n",
       "       'Im in AZ all the time and now have my new spot.',\n",
       "       'The manager was the worst.',\n",
       "       'The inside is really quite nice and very clean.',\n",
       "       'The food was outstanding and the prices were very reasonable.',\n",
       "       \"I don't think I'll be running back to Carly's anytime soon for food.\",\n",
       "       'This is was due to the fact that it took 20 minutes to be acknowledged, then another 35 minutes to get our food...and they kept forgetting things.',\n",
       "       'Love the margaritas, too!',\n",
       "       'This was my first and only Vegas buffet and it did not disappoint.',\n",
       "       'Very good, though!',\n",
       "       'The one down note is the ventilation could use some upgrading.',\n",
       "       'Great pork sandwich.', \"Don't waste your time here.\",\n",
       "       'Total letdown, I would much rather just go to the Camelback Flower Shop and Cartel Coffee.',\n",
       "       \"Third, the cheese on my friend's burger was cold.\",\n",
       "       'We enjoy their pizza and brunch.',\n",
       "       'The steaks are all well trimmed and also perfectly cooked.',\n",
       "       'We had a group of 70+ when we claimed we would only have 40 and they handled us beautifully.',\n",
       "       'I LOVED it!',\n",
       "       \"We asked for the bill to leave without eating and they didn't bring that either.\",\n",
       "       \"This place is a jewel in Las Vegas, and exactly what I've been hoping to find in nearly ten years living here.\",\n",
       "       'Seafood was limited to boiled shrimp and crab legs but the crab legs definitely did not taste fresh.',\n",
       "       'The selection of food was not the best.',\n",
       "       'Delicious and I will absolutely be back!',\n",
       "       \"This isn't a small family restaurant, this is a fine dining establishment.\",\n",
       "       'They had a toro tartare with a cavier that was extraordinary and I liked the thinly sliced wagyu with white truffle.',\n",
       "       'I dont think I will be back for a very long time.',\n",
       "       'It was attached to a gas station, and that is rarely a good sign.',\n",
       "       'How awesome is that.', 'I will be back many times soon.',\n",
       "       'The menu had so much good stuff on it i could not decide!',\n",
       "       'Worse of all, he humiliated his worker right in front of me..Bunch of horrible name callings.',\n",
       "       'CONCLUSION: Very filling meals.',\n",
       "       'Their daily specials are always a hit with my group.',\n",
       "       'And then tragedy struck.',\n",
       "       'The pancake was also really good and pretty large at that.',\n",
       "       'This was my first crawfish experience, and it was delicious!',\n",
       "       'Their monster chicken fried steak and eggs is my all time favorite.',\n",
       "       'Waitress was sweet and funny.',\n",
       "       \"I also had to taste my Mom's multi-grain pumpkin pancakes with pecan butter and they were amazing, fluffy, and delicious!\",\n",
       "       \"I'd rather eat airline food, seriously.\",\n",
       "       'Cant say enough good things about this place.',\n",
       "       'The ambiance was incredible.',\n",
       "       'The waitress and manager are so friendly.',\n",
       "       'I would not recommend this place.',\n",
       "       \"Overall I wasn't very impressed with Noca.\",\n",
       "       'My gyro was basically lettuce only.', 'Terrible service!',\n",
       "       'Thoroughly disappointed!',\n",
       "       \"I don't each much pasta, but I love the homemade /hand made pastas and thin pizzas here.\",\n",
       "       'Give it a try, you will be happy you did.',\n",
       "       'By far the BEST cheesecurds we have ever had!',\n",
       "       'Reasonably priced also!',\n",
       "       'Everything was perfect the night we were in.',\n",
       "       'The food is very good for your typical bar food.',\n",
       "       'it was a drive to get there.',\n",
       "       'At first glance it is a lovely bakery cafe - nice ambiance, clean, friendly staff.',\n",
       "       'Anyway, I do not think i will go back there.',\n",
       "       \"Point your finger at any item on the menu, order it and you won't be disappointed.\",\n",
       "       'Oh this is such a thing of beauty, this restaurant.',\n",
       "       \"If you haven't gone here GO NOW!\", 'A greasy, unhealthy meal.',\n",
       "       'first time there and might just be the last.',\n",
       "       'Those burgers were amazing.',\n",
       "       'Similarly, the delivery man did not say a word of apology when our food was 45 minutes late.',\n",
       "       'And it was way to expensive.',\n",
       "       'Be sure to order dessert, even if you need to pack it to-go - the tiramisu and cannoli are both to die for.',\n",
       "       \"This was my first time and I can't wait until the next.\",\n",
       "       'The bartender was also nice.', 'Everything was good and tasty!',\n",
       "       'This place is two thumbs up....way up.',\n",
       "       'The best place in Vegas for breakfast (just check out a Sat, or Sun.',\n",
       "       'If you love authentic Mexican food and want a whole bunch of interesting, yet delicious meats to choose from, you need to try this place.',\n",
       "       'Terrible management.',\n",
       "       'An excellent new restaurant by an experienced Frenchman.',\n",
       "       'If there were zero stars I would give it zero stars.',\n",
       "       'Great steak, great sides, great wine, amazing desserts.',\n",
       "       'Worst martini ever!',\n",
       "       'The steak and the shrimp are in my opinion the best entrees at GC.',\n",
       "       'I had the opportunity today to sample your amazing pizzas!',\n",
       "       'We waited for thirty minutes to be seated (although there were 8 vacant tables and we were the only folks waiting).',\n",
       "       'The yellowtail carpaccio was melt in your mouth fresh.',\n",
       "       \"I won't try going back there even if it's empty.\",\n",
       "       \"No, I'm going to eat the potato that I found some strangers hair in it.\",\n",
       "       'Just spicy enough.. Perfect actually.',\n",
       "       'Last night was my second time dining here and I was so happy I decided to go back!',\n",
       "       'not even a \"hello, we will be right with you.\"',\n",
       "       'The desserts were a bit strange.',\n",
       "       'My boyfriend and I came here for the first time on a recent trip to Vegas and could not have been more pleased with the quality of food and service.',\n",
       "       'I really do recommend this place, you can go wrong with this donut place!',\n",
       "       'Nice ambiance.', 'I would recommend saving room for this!',\n",
       "       'I guess maybe we went on an off night but it was disgraceful.',\n",
       "       'However, my recent experience at this particular location was not so good.',\n",
       "       'I know this is not like the other restaurants at all, something is very off here!',\n",
       "       'AVOID THIS ESTABLISHMENT!',\n",
       "       'I think this restaurant suffers from not trying hard enough.',\n",
       "       'All of the tapas dishes were delicious!', 'I *heart* this place.',\n",
       "       'My salad had a bland vinegrette on the baby greens and hearts of Palm.',\n",
       "       'After two I felt disgusting.', 'A good time!',\n",
       "       'I believe that this place is a great stop for those with a huge belly and hankering for sushi.',\n",
       "       'Generous portions and great taste.',\n",
       "       'I will never go back to this place and will never ever recommended this place to anyone!',\n",
       "       'The servers went back and forth several times, not even so much as an \"Are you being helped?\"',\n",
       "       'Food was delicious!', 'AN HOUR... seriously?',\n",
       "       'I consider this theft.',\n",
       "       'Eew... This location needs a complete overhaul.',\n",
       "       'We recently witnessed her poor quality of management towards other guests as well.',\n",
       "       'Waited and waited and waited.',\n",
       "       'He also came back to check on us regularly, excellent service.',\n",
       "       'Our server was super nice and checked on us many times.',\n",
       "       'The pizza tasted old, super chewy in not a good way.',\n",
       "       'I swung in to give them a try but was deeply disappointed.',\n",
       "       'Service was good and the company was better!',\n",
       "       'The staff are also very friendly and efficient.',\n",
       "       \"As for the service: I'm a fan, because it's quick and you're being served by some nice folks.\",\n",
       "       'Boy was that sucker dry!!.', 'Over rated.',\n",
       "       'If you look for authentic Thai food, go else where.',\n",
       "       'Their steaks are 100% recommended!',\n",
       "       'After I pulled up my car I waited for another 15 minutes before being acknowledged.',\n",
       "       'Great food and great service in a clean and friendly setting.',\n",
       "       \"All in all, I can assure you I'll be back.\",\n",
       "       'I hate those things as much as cheap quality black olives.',\n",
       "       'My breakfast was perpared great, with a beautiful presentation of 3 giant slices of Toast, lightly dusted with powdered sugar.',\n",
       "       'The kids play area is NASTY!',\n",
       "       'Great place fo take out or eat in.',\n",
       "       'The waitress was friendly and happy to accomodate for vegan/veggie options.',\n",
       "       'OMG I felt like I had never eaten Thai food until this dish.',\n",
       "       'It was extremely \"crumby\" and pretty tasteless.',\n",
       "       'It was a pale color instead of nice and char and has NO flavor.',\n",
       "       'The croutons also taste homemade which is an extra plus.',\n",
       "       'I got home to see the driest damn wings ever!',\n",
       "       \"It'll be a regular stop on my trips to Phoenix!\",\n",
       "       'I really enjoyed Crema Café before they expanded; I even told friends they had the BEST breakfast.',\n",
       "       'Not good for the money.',\n",
       "       'I miss it and wish they had one in Philadelphia!',\n",
       "       'We got sitting fairly fast, but, ended up waiting 40 minutes just to place our order, another 30 minutes before the food arrived.',\n",
       "       'They also have the best cheese crisp in town.',\n",
       "       'Good value, great food, great service.',\n",
       "       \"Couldn't ask for a more satisfying meal.\", 'The food is good.',\n",
       "       'It was awesome.', 'I just wanted to leave.',\n",
       "       'We made the drive all the way from North Scottsdale... and I was not one bit disappointed!',\n",
       "       'I will not be eating there again.',\n",
       "       '!....THE OWNERS REALLY REALLY need to quit being soooooo cheap let them wrap my freaking sandwich in two papers not one!',\n",
       "       'I checked out this place a couple years ago and was not impressed.',\n",
       "       'The chicken I got was definitely reheated and was only ok, the wedges were cold and soggy.',\n",
       "       'Sorry, I will not be getting food from here anytime soon :(',\n",
       "       'An absolute must visit!',\n",
       "       'The cow tongue and cheek tacos are amazing.',\n",
       "       'My friend did not like his Bloody Mary.',\n",
       "       'Despite how hard I rate businesses, its actually rare for me to give a 1 star.',\n",
       "       'They really want to make your experience a good one.',\n",
       "       'I will not return.',\n",
       "       'I had the chicken Pho and it tasted very bland.',\n",
       "       'Very disappointing!!!',\n",
       "       'The grilled chicken was so tender and yellow from the saffron seasoning.',\n",
       "       'a drive thru means you do not want to wait around for half an hour for your food, but somehow when we end up going here they make us wait and wait.',\n",
       "       'Pretty awesome place.', 'Ambience is perfect.',\n",
       "       'Best of luck to the rude and non-customer service focused new management.',\n",
       "       'Any grandmother can make a roasted chicken better than this one.',\n",
       "       'I asked multiple times for the wine list and after some time of being ignored I went to the hostess and got one myself.',\n",
       "       'The staff is always super friendly and helpful, which is especially cool when you bring two small boys and a baby!',\n",
       "       'Four stars for the food & the guy in the blue shirt for his great vibe & still letting us in to eat !',\n",
       "       'The roast beef sandwich tasted really good!',\n",
       "       'Same evening, him and I are both drastically sick.',\n",
       "       'High-quality chicken on the chicken Caesar salad.',\n",
       "       \"Ordered burger rare came in we'll done.\",\n",
       "       'We were promptly greeted and seated.',\n",
       "       'Tried to go here for lunch and it was a madhouse.',\n",
       "       'I was proven dead wrong by this sushi bar, not only because the quality is great, but the service is fast and the food, impeccable.',\n",
       "       'After waiting an hour and being seated, I was not in the greatest of moods.',\n",
       "       'This is a good joint.', 'The Macarons here are insanely good.',\n",
       "       \"I'm not eating here!\",\n",
       "       'Our waiter was very attentive, friendly, and informative.',\n",
       "       \"Maybe if they weren't cold they would have been somewhat edible.\",\n",
       "       'This place has a lot of promise but fails to deliver.',\n",
       "       'Very bad Experience!', 'What a mistake.',\n",
       "       'Food was average at best.', 'Great food.',\n",
       "       \"We won't be going back anytime soon!\",\n",
       "       'Very Very Disappointed ordered the $35 Big Bay Plater.',\n",
       "       'Great place to relax and have an awesome burger and beer.',\n",
       "       'It is PERFECT for a sit-down family meal or get together with a few friends.',\n",
       "       'Not much flavor to them, and very poorly constructed.',\n",
       "       'The patio seating was very comfortable.',\n",
       "       'The fried rice was dry as well.',\n",
       "       'Hands down my favorite Italian restaurant!',\n",
       "       'That just SCREAMS \"LEGIT\" in my book...somethat\\'s also pretty rare here in Vegas.',\n",
       "       'It was just not a fun experience.',\n",
       "       'The atmosphere was great with a lovely duo of violinists playing songs we requested.',\n",
       "       \"I personally love the hummus, pita, baklava, falafels and Baba Ganoush (it's amazing what they do with eggplant!).\",\n",
       "       'Very convenient, since we were staying at the MGM!',\n",
       "       'The owners are super friendly and the staff is courteous.',\n",
       "       'Both great!', 'Eclectic selection.',\n",
       "       'The sweet potato tots were good but the onion rings were perfection or as close as I have had.',\n",
       "       'The staff was very attentive.',\n",
       "       'And the chef was generous with his time (even came around twice so we can take pictures with him).',\n",
       "       'The owner used to work at Nobu, so this place is really similar for half the price.',\n",
       "       'Google mediocre and I imagine Smashburger will pop up.',\n",
       "       'dont go here.', \"I promise they won't disappoint.\",\n",
       "       'As a sushi lover avoid this place by all means.',\n",
       "       'What a great double cheeseburger!', 'Awesome service and food.',\n",
       "       'A fantastic neighborhood gem !!!', \"I can't wait to go back.\",\n",
       "       \"The plantains were the worst I've ever tasted.\",\n",
       "       \"It's a great place and I highly recommend it.\",\n",
       "       'Service was slow and not attentive.',\n",
       "       \"I gave it 5 stars then, and I'm giving it 5 stars now.\",\n",
       "       'Your staff spends more time talking to themselves than me.',\n",
       "       'Dessert: Panna Cotta was amazing.',\n",
       "       'Very good food, great atmosphere.1', 'Damn good steak.',\n",
       "       'Total brunch fail.',\n",
       "       'Prices are very reasonable, flavors are spot on, the sauce is home made, and the slaw is not drenched in mayo.',\n",
       "       'The decor is nice, and the piano music soundtrack is pleasant.',\n",
       "       'The steak was amazing...rge fillet relleno was the best seafood plate i have ever had!',\n",
       "       'Good food , good service .', 'It was absolutely amazing.',\n",
       "       \"I probably won't be back, to be honest.\",\n",
       "       'will definitely be back!',\n",
       "       'The sergeant pepper beef sandwich with auju sauce is an excellent sandwich as well.',\n",
       "       \"Hawaiian Breeze, Mango Magic, and Pineapple Delight are the smoothies that I've tried so far and they're all good.\",\n",
       "       'Went for lunch - service was slow.',\n",
       "       'We had so much to say about the place before we walked in that he expected it to be amazing, but was quickly disappointed.',\n",
       "       'I was mortified.',\n",
       "       'Needless to say, we will never be back here again.',\n",
       "       'Anyways, The food was definitely not filling at all, and for the price you pay you should expect more.',\n",
       "       'The chips that came out were dripping with grease, and mostly not edible.',\n",
       "       \"I wasn't really impressed with Strip Steak.\",\n",
       "       'Have been going since 2007 and every meal has been awesome!!',\n",
       "       'Our server was very nice and attentive as were the other serving staff.',\n",
       "       'The cashier was friendly and even brought the food out to me.',\n",
       "       'I work in the hospitality industry in Paradise Valley and have refrained from recommending Cibo any longer.',\n",
       "       'The atmosphere here is fun.', 'Would not recommend to others.',\n",
       "       'Service is quick and even \"to go\" orders are just like we like it!',\n",
       "       \"I mean really, how do you get so famous for your fish and chips when it's so terrible!?!\",\n",
       "       'That said, our mouths and bellies were still quite pleased.',\n",
       "       'Not my thing.', '2 Thumbs Up!!',\n",
       "       \"If you are reading this please don't go there.\",\n",
       "       'I loved the grilled pizza, reminded me of legit Italian pizza.',\n",
       "       'Only Pros : Large seating area/ Nice bar area/ Great simple drink menu/ The BEST brick oven pizza with homemade dough!',\n",
       "       'They have a really nice atmosphere.',\n",
       "       'Tonight I had the Elk Filet special...and it sucked.',\n",
       "       'After one bite, I was hooked.',\n",
       "       'We ordered some old classics and some new dishes after going there a few times and were sorely disappointed with everything.',\n",
       "       'Cute, quaint, simple, honest.',\n",
       "       'The chicken was deliciously seasoned and had the perfect fry on the outside and moist chicken on the inside.',\n",
       "       'The food was great as always, compliments to the chef.',\n",
       "       'Special thanks to Dylan T. for the recommendation on what to order :) All yummy for my tummy.',\n",
       "       'Awesome selection of beer.', 'Great food and awesome service!',\n",
       "       \"One nice thing was that they added gratuity on the bill since our party was larger than 6 or 8, and they didn't expect more tip than that.\",\n",
       "       'A FLY was in my apple juice.. A FLY!!!!!!!!',\n",
       "       'The Han Nan Chicken was also very tasty.',\n",
       "       'As for the service, I thought it was good.',\n",
       "       'The food was barely lukewarm, so it must have been sitting waiting for the server to bring it out to us.',\n",
       "       \"Ryan's Bar is definitely one Edinburgh establishment I won't be revisiting.\",\n",
       "       \"Nicest Chinese restaurant I've been in a while.\",\n",
       "       'Overall, I like there food and the service.',\n",
       "       'They also now serve Indian naan bread with hummus and some spicy pine nut sauce that was out of this world.',\n",
       "       \"Probably never coming back, and wouldn't recommend it.\",\n",
       "       \"Friend's pasta -- also bad, he barely touched it.\",\n",
       "       'Try them in the airport to experience some tasty food and speedy, friendly service.',\n",
       "       'I love the decor with the Chinese calligraphy wall paper.',\n",
       "       'Never had anything to complain about here.',\n",
       "       'The restaurant is very clean and has a family restaurant feel to it.',\n",
       "       'It was way over fried.',\n",
       "       \"I'm not sure how long we stood there but it was long enough for me to begin to feel awkwardly out of place.\",\n",
       "       'When I opened the sandwich, I was impressed, but not in a good way.',\n",
       "       'Will not be back!',\n",
       "       'There was a warm feeling with the service and I felt like their guest for a special treat.',\n",
       "       'An extensive menu provides lots of options for breakfast.',\n",
       "       'I always order from the vegetarian menu during dinner, which has a wide array of options to choose from.',\n",
       "       'I have watched their prices inflate, portions get smaller and management attitudes grow rapidly!',\n",
       "       'Wonderful lil tapas and the ambience made me feel all warm and fuzzy inside.',\n",
       "       'I got to enjoy the seafood salad, with a fabulous vinegrette.',\n",
       "       'The wontons were thin, not thick and chewy, almost melt in your mouth.',\n",
       "       \"Level 5 spicy was perfect, where spice didn't over-whelm the soup.\",\n",
       "       'We were sat right on time and our server from the get go was FANTASTIC!',\n",
       "       \"Main thing I didn't enjoy is that the crowd is of older crowd, around mid 30s and up.\",\n",
       "       \"When I'm on this side of town, this will definitely be a spot I'll hit up again!\",\n",
       "       'I had to wait over 30 minutes to get my drink and longer to get 2 arepas.',\n",
       "       'This is a GREAT place to eat!',\n",
       "       'The jalapeno bacon is soooo good.',\n",
       "       'The service was poor and thats being nice.',\n",
       "       'Food was good, service was good, Prices were good.',\n",
       "       'The place was not clean and the food oh so stale!',\n",
       "       'The chicken dishes are OK, the beef is like shoe leather.',\n",
       "       'But the service was beyond bad.', 'I\\'m so happy to be here!!!\"',\n",
       "       'Tasted like dirt.',\n",
       "       'One of the few places in Phoenix that I would definately go back to again .',\n",
       "       'The block was amazing.',\n",
       "       \"It's close to my house, it's low-key, non-fancy, affordable prices, good food.\",\n",
       "       '* Both the Hot & Sour & the Egg Flower Soups were absolutely 5 Stars!',\n",
       "       'My sashimi was poor quality being soggy and tasteless.',\n",
       "       'Great time - family dinner on a Sunday night.',\n",
       "       'the food is not tasty at all, not to say its \"real traditional Hunan style\".',\n",
       "       'What did bother me, was the slow service.',\n",
       "       'The flair bartenders are absolutely amazing!',\n",
       "       'Their frozen margaritas are WAY too sugary for my taste.',\n",
       "       'These were so good we ordered them twice.',\n",
       "       'So in a nutshell: 1) The restaraunt smells like a combination of a dirty fish market and a sewer.',\n",
       "       \"My girlfriend's veal was very bad.\",\n",
       "       'Unfortunately, it was not good.',\n",
       "       'I had a pretty satifying experience.',\n",
       "       'Join the club and get awesome offers via email.',\n",
       "       'Perfect for someone (me) who only likes beer ice cold, or in this case, even colder.',\n",
       "       'Bland and flavorless is a good way of describing the barely tepid meat.',\n",
       "       \"The chains, which I'm no fan of, beat this place easily.\",\n",
       "       'The nachos are a MUST HAVE!', 'We will not be coming back.',\n",
       "       \"I don't have very many words to say about this place, but it does everything pretty well.\",\n",
       "       'The staff is super nice and very quick even with the crazy crowds of the downtown juries, lawyers, and court staff.',\n",
       "       'Great atmosphere, friendly and fast service.',\n",
       "       'When I received my Pita it was huge it did have a lot of meat in it so thumbs up there.',\n",
       "       \"Once your food arrives it's meh.\",\n",
       "       \"Paying $7.85 for a hot dog and fries that looks like it came out of a kid's meal at the Wienerschnitzel is not my idea of a good meal.\",\n",
       "       'The classic Maine Lobster Roll was fantastic.',\n",
       "       'My brother in law who works at the mall ate here same day, and guess what he was sick all night too.',\n",
       "       'So good I am going to have to review this place twice - once hereas a tribute to the place and once as a tribute to an event held here last night.',\n",
       "       'The chips and salsa were really good, the salsa was very fresh.',\n",
       "       'This place is great!!!!!!!!!!!!!!', 'Mediocre food.',\n",
       "       \"Once you get inside you'll be impressed with the place.\",\n",
       "       \"I'm super pissd.\", 'And service was super friendly.',\n",
       "       'Why are these sad little vegetables so overcooked?',\n",
       "       'This place was such a nice surprise!',\n",
       "       'They were golden-crispy and delicious.',\n",
       "       'I had high hopes for this place since the burgers are cooked over a charcoal grill, but unfortunately the taste fell flat, way flat.',\n",
       "       'I could eat their bruschetta all day it is devine.',\n",
       "       'Not a single employee came out to see if we were OK or even needed a water refill once they finally served us our food.',\n",
       "       'Lastly, the mozzarella sticks, they were the best thing we ordered.',\n",
       "       'The first time I ever came here I had an amazing experience, I still tell people how awesome the duck was.',\n",
       "       'The server was very negligent of our needs and made us feel very unwelcome... I would not suggest this place!',\n",
       "       'The service was terrible though.',\n",
       "       'This place is overpriced, not consistent with their boba, and it really is OVERPRICED!',\n",
       "       'It was packed!!', 'I love this place.',\n",
       "       'I can say that the desserts were yummy.',\n",
       "       'The food was terrible.',\n",
       "       'The seasonal fruit was fresh white peach puree.',\n",
       "       \"It kept getting worse and worse so now I'm officially done.\",\n",
       "       'This place should honestly be blown up.',\n",
       "       'But I definitely would not eat here again.',\n",
       "       'Do not waste your money here!',\n",
       "       'I love that they put their food in nice plastic containers as opposed to cramming it in little paper takeout boxes.',\n",
       "       'The crêpe was delicate and thin and moist.', 'Awful service.',\n",
       "       \"Won't ever go here again.\", 'Food quality has been horrible.',\n",
       "       'For that price I can think of a few place I would have much rather gone.',\n",
       "       'The service here is fair at best.',\n",
       "       'I do love sushi, but I found Kabuki to be over-priced, over-hip and under-services.',\n",
       "       'Do yourself a favor and stay away from this dish.',\n",
       "       'Very poor service.',\n",
       "       'No one at the table thought the food was above average or worth the wait that we had for it.',\n",
       "       'Best service and food ever, Maria our server was so good and friendly she made our day.',\n",
       "       'They were excellent.',\n",
       "       'I paid the bill but did not tip because I felt the server did a terrible job.',\n",
       "       'Just had lunch here and had a great experience.',\n",
       "       'I have never had such bland food which surprised me considering the article we read focused so much on their spices and flavor.',\n",
       "       'Food is way overpriced and portions are fucking small.',\n",
       "       \"I recently tried Caballero's and I have been back every week since!\",\n",
       "       'for 40 bucks a head, i really expect better food.',\n",
       "       'The food came out at a good pace.',\n",
       "       'I ate there twice on my last visit, and especially enjoyed the salmon salad.',\n",
       "       \"I won't be back.\",\n",
       "       'We could not believe how dirty the oysters were!',\n",
       "       'This place deserves no stars.',\n",
       "       'I would not recommend this place.',\n",
       "       \"In fact I'm going to round up to 4 stars, just because she was so awesome.\",\n",
       "       'To my disbelief, each dish qualified as the worst version of these foods I have ever tasted.',\n",
       "       'Bad day or not, I have a very low tolerance for rude customer service people, it is your job to be nice and polite, wash dishes otherwise!!',\n",
       "       'the potatoes were great and so was the biscuit.',\n",
       "       'I probably would not go here again.',\n",
       "       'So flavorful and has just the perfect amount of heat.',\n",
       "       'The price is reasonable and the service is great.',\n",
       "       'The Wife hated her meal (coconut shrimp), and our friends really did not enjoy their meals, either.',\n",
       "       \"My fella got the huevos rancheros and they didn't look too appealing.\",\n",
       "       'Went in for happy hour, great list of wines.',\n",
       "       'Some may say this buffet is pricey but I think you get what you pay for and this place you are getting quite a lot!',\n",
       "       \"I probably won't be coming back here.\",\n",
       "       \"Worst food/service I've had in a while.\",\n",
       "       'This place is pretty good, nice little vibe in the restaurant.',\n",
       "       'Talk about great customer service of course we will be back.',\n",
       "       'Hot dishes are not hot, cold dishes are close to room temp.I watched staff prepare food with BARE HANDS, no gloves.Everything is deep fried in oil.',\n",
       "       'I love their fries and their beans.',\n",
       "       'Always a pleasure dealing with him.',\n",
       "       \"They have a plethora of salads and sandwiches, and everything I've tried gets my seal of approval.\",\n",
       "       'This place is awesome if you want something light and healthy during the summer.',\n",
       "       'For sushi on the Strip, this is the place to go.',\n",
       "       'The service was great, even the manager came and helped with our table.',\n",
       "       'The feel of the dining room was more college cooking course than high class dining and the service was slow at best.',\n",
       "       \"I started this review with two stars, but I'm editing it to give it only one.\",\n",
       "       \"this is the worst sushi i have ever eat besides Costco's.\",\n",
       "       'All in all an excellent restaurant highlighted by great service, a unique menu, and a beautiful setting.',\n",
       "       'My boyfriend and i sat at the bar and had a completely delightful experience.',\n",
       "       'Weird vibe from owners.', 'There was hardly any meat.',\n",
       "       \"I've had better bagels from the grocery store.\",\n",
       "       'Go To Place for Gyros.',\n",
       "       'I love the owner/chef, his one authentic Japanese cool dude!',\n",
       "       \"Now the burgers aren't as good, the pizza which used to be amazing is doughy and flavorless.\",\n",
       "       'I found a six inch long piece of wire in my salsa.',\n",
       "       'The service was terrible, food was mediocre.',\n",
       "       'We definately enjoyed ourselves.',\n",
       "       'I ordered Albondigas soup - which was just warm - and tasted like tomato soup with frozen meatballs.',\n",
       "       'On three different occasions I asked for well done or medium well, and all three times I got the bloodiest piece of meat on my plate.',\n",
       "       'I had about two bites and refused to eat anymore.',\n",
       "       'The service was extremely slow.',\n",
       "       'After 20 minutes wait, I got a table.',\n",
       "       'Seriously killer hot chai latte.',\n",
       "       'No allergy warnings on the menu, and the waitress had absolutely no clue as to which meals did or did not contain peanuts.',\n",
       "       'My boyfriend tried the Mediterranean Chicken Salad and fell in love.',\n",
       "       'Their rotating beers on tap is also a highlight of this place.',\n",
       "       'Pricing is a bit of a concern at Mellow Mushroom.',\n",
       "       'Worst Thai ever.',\n",
       "       'If you stay in Vegas you must get breakfast here at least once.',\n",
       "       'I want to first say our server was great and we had perfect service.',\n",
       "       'The pizza selections are good.',\n",
       "       'I had strawberry tea, which was good.',\n",
       "       'Highly unprofessional and rude to a loyal patron!',\n",
       "       'Overall, a great experience.', 'Spend your money elsewhere.',\n",
       "       'Their regular toasted bread was equally satisfying with the occasional pats of butter... Mmmm...!',\n",
       "       'The Buffet at Bellagio was far from what I anticipated.',\n",
       "       'And the drinks are WEAK, people!', '-My order was not correct.',\n",
       "       'Also, I feel like the chips are bought, not made in house.',\n",
       "       'After the disappointing dinner we went elsewhere for dessert.',\n",
       "       'The chips and sals a here is amazing!!!!!!!!!!!!!!!!!!!',\n",
       "       \"We won't be returning.\", 'This is my new fav Vegas buffet spot.',\n",
       "       'I seriously cannot believe that the owner has so many unexperienced employees that all are running around like chickens with their heads cut off.',\n",
       "       'Very, very sad.',\n",
       "       'i felt insulted and disrespected, how could you talk and judge another human being like that?',\n",
       "       \"How can you call yourself a steakhouse if you can't properly cook a steak, I don't understand!\",\n",
       "       \"I'm not impressed with the concept or the food.\",\n",
       "       \"The only thing I wasn't too crazy about was their guacamole as I don't like it puréed.\",\n",
       "       'There is really nothing for me at postinos, hope your experience is better',\n",
       "       'I got food poisoning here at the buffet.',\n",
       "       'They brought a fresh batch of fries and I was thinking yay something warm but no!',\n",
       "       'What SHOULD have been a hilarious, yummy Christmas Eve dinner to remember was the biggest fail of the entire trip for us.',\n",
       "       \"Needless to say, I won't be going back anytime soon.\",\n",
       "       'This place is disgusting!',\n",
       "       'Every time I eat here, I see caring teamwork to a professional degree.',\n",
       "       'The RI style calamari was a joke.',\n",
       "       'However, there was so much garlic in the fondue, it was barely edible.',\n",
       "       \"I could barely stomach the meal, but didn't complain because it was a business lunch.\",\n",
       "       'It was so bad, I had lost the heart to finish it.',\n",
       "       'It also took her forever to bring us the check when we asked for it.',\n",
       "       \"We aren't ones to make a scene at restaurants but I just don't get it...definitely lost the love after this one!\",\n",
       "       'Disappointing experience.',\n",
       "       \"The food is about on par with Denny's, which is to say, not good at all.\",\n",
       "       'If you want to wait for mediocre food and downright terrible service, then this is the place for you.',\n",
       "       'WAAAAAAyyyyyyyyyy over rated is all I am saying.',\n",
       "       \"We won't be going back.\",\n",
       "       \"The place was fairly clean but the food simply wasn't worth it.\",\n",
       "       'This place lacked style!!',\n",
       "       'The sangria was about half of a glass wine full and was $12, ridiculous.',\n",
       "       \"Don't bother coming here.\",\n",
       "       'The meat was pretty dry, I had the sliced brisket and pulled pork.',\n",
       "       \"The building itself seems pretty neat; the bathroom is pretty trippy, but I wouldn't eat here again.\",\n",
       "       'It was equally awful.', 'Probably not in a hurry to go back.',\n",
       "       'very slow at seating even with reservation.',\n",
       "       'Not good by any stretch of the imagination.',\n",
       "       'The cashew cream sauce was bland and the vegetables were undercooked.',\n",
       "       'The chipolte ranch dipping sause was tasteless, seemed thin and watered down with no heat.',\n",
       "       'It was a bit too sweet, not really spicy enough, and lacked flavor.',\n",
       "       'I was VERY disappointed!!',\n",
       "       'This place is horrible and way overpriced.',\n",
       "       \"Maybe it's just their Vegetarian fare, but I've been twice and I thought it was average at best.\",\n",
       "       \"It wasn't busy at all and now we know why.\",\n",
       "       'The tables outside are also dirty a lot of the time and the workers are not always friendly and helpful with the menu.',\n",
       "       'The ambiance here did not feel like a buffet setting, but more of a douchey indoor garden for tea and biscuits.',\n",
       "       'Con: spotty service.',\n",
       "       'The fries were not hot, and neither was my burger.',\n",
       "       'But then they came back cold.',\n",
       "       'Then our food came out, disappointment ensued.',\n",
       "       'The real disappointment was our waiter.',\n",
       "       'My husband said she was very rude... did not even apologize for the bad food or anything.',\n",
       "       'The only reason to eat here would be to fill up before a night of binge drinking just to get some carbs in your stomach.',\n",
       "       'Insults, profound deuchebaggery, and had to go outside for a smoke break while serving just to solidify it.',\n",
       "       \"If someone orders two tacos don't' you think it may be part of customer service to ask if it is combo or ala cart?\",\n",
       "       'She was quite disappointed although some blame needs to be placed at her door.',\n",
       "       \"After all the rave reviews I couldn't wait to eat here......what a disappointment!\",\n",
       "       'Del Taco is pretty nasty and should be avoided if possible.',\n",
       "       \"It's NOT hard to make a decent hamburger.\",\n",
       "       \"But I don't like it.\", 'Hell no will I go back',\n",
       "       \"We've have gotten a much better service from the pizza place next door than the services we received from this restaurant.\",\n",
       "       'I don\\'t know what the big deal is about this place, but I won\\'t be back \"ya\\'all\".',\n",
       "       'I immediately said I wanted to talk to the manager but I did not want to talk to the guy who was doing shots of fireball behind the bar.',\n",
       "       \"The ambiance isn't much better.\",\n",
       "       'Unfortunately, it only set us up for disapppointment with our entrees.',\n",
       "       \"The food wasn't good.\",\n",
       "       'Your servers suck, wait, correction, our server Heimer sucked.',\n",
       "       'What happened next was pretty....off putting.',\n",
       "       \"too bad cause I know it's family owned, I really wanted to like this place.\",\n",
       "       'Overpriced for what you are getting.',\n",
       "       'I vomited in the bathroom mid lunch.',\n",
       "       'I kept looking at the time and it had soon become 35 minutes, yet still no food.',\n",
       "       'I have been to very few places to eat that under no circumstances would I ever return to, and this tops the list.',\n",
       "       \"We started with the tuna sashimi which was brownish in color and obviously wasn't fresh.\",\n",
       "       'Food was below average.',\n",
       "       'It sure does beat the nachos at the movies but I would expect a little bit more coming from a restaurant.',\n",
       "       'All in all, Ha Long Bay was a bit of a flop.',\n",
       "       'The problem I have is that they charge $11.99 for a sandwich that is no bigger than a Subway sub (which offers better and more amount of vegetables).',\n",
       "       'Shrimp- When I unwrapped it (I live only 1/2 a mile from Brushfire) it was literally ice cold.',\n",
       "       'It lacked flavor, seemed undercooked, and dry.',\n",
       "       \"It really is impressive that the place hasn't closed down.\",\n",
       "       'I would avoid this place if you are staying in the Mirage.',\n",
       "       'The refried beans that came with my meal were dried out and crusty and the food was bland.',\n",
       "       'Spend your money and time some place else.',\n",
       "       'A lady at the table next to us found a live green caterpillar In her salad.',\n",
       "       'the presentation of the food was awful.',\n",
       "       \"I can't tell you how disappointed I was.\",\n",
       "       'I think food should have flavor and texture and both were lacking.',\n",
       "       'Appetite instantly gone.',\n",
       "       'Overall I was not impressed and would not go back.',\n",
       "       \"The whole experience was underwhelming, and I think we'll just go to Ninja Sushi next time.\",\n",
       "       \"Then, as if I hadn't wasted enough of my life there, they poured salt in the wound by drawing out the time it took to bring the check.\"],\n",
       "      dtype=object)"
      ]
     },
     "execution_count": 10,
     "metadata": {},
     "output_type": "execute_result"
    }
   ],
   "source": [
    "# .values returns a NumPy array instead of a Pandas Series object which is in this context easier to work with\n",
    "sentences = df_yelp['sentence'].values\n",
    "sentences"
   ]
  },
  {
   "cell_type": "code",
   "execution_count": 11,
   "metadata": {},
   "outputs": [],
   "source": [
    "y = df_yelp['label'].values\n",
    "sentences_train, sentences_test, y_train, y_test = train_test_split(sentences, y, test_size=0.25, random_state=1000)"
   ]
  },
  {
   "cell_type": "code",
   "execution_count": 12,
   "metadata": {},
   "outputs": [
    {
     "data": {
      "text/plain": [
       "<750x1714 sparse matrix of type '<class 'numpy.int64'>'\n",
       "\twith 7368 stored elements in Compressed Sparse Row format>"
      ]
     },
     "execution_count": 12,
     "metadata": {},
     "output_type": "execute_result"
    }
   ],
   "source": [
    "from sklearn.feature_extraction.text import CountVectorizer\n",
    "\n",
    "vectorizer = CountVectorizer()\n",
    "vectorizer.fit(sentences_train)\n",
    "\n",
    "X_train = vectorizer.transform(sentences_train)\n",
    "X_test  = vectorizer.transform(sentences_test)\n",
    "X_train"
   ]
  },
  {
   "cell_type": "code",
   "execution_count": 13,
   "metadata": {},
   "outputs": [
    {
     "name": "stdout",
     "output_type": "stream",
     "text": [
      "Accuracy: 0.796\n"
     ]
    }
   ],
   "source": [
    "from sklearn.linear_model import LogisticRegression\n",
    "\n",
    "classifier = LogisticRegression()\n",
    "\n",
    "# Fit the training data then test it to get accuracy score\n",
    "classifier.fit(X_train, y_train)\n",
    "score = classifier.score(X_test, y_test)\n",
    "\n",
    "print(\"Accuracy:\", score)"
   ]
  },
  {
   "cell_type": "code",
   "execution_count": 14,
   "metadata": {},
   "outputs": [
    {
     "name": "stdout",
     "output_type": "stream",
     "text": [
      "Accuracy for yelp data: 0.796\n",
      "Accuracy for amazon data: 0.796\n",
      "Accuracy for imdb data: 0.7486631016042781\n"
     ]
    }
   ],
   "source": [
    "for source in df['source'].unique():\n",
    "    df_source = df[df['source'] == source]\n",
    "    sentences = df_source['sentence'].values\n",
    "    y = df_source['label'].values\n",
    "\n",
    "    sentences_train, sentences_test, y_train, y_test = train_test_split(\n",
    "        sentences, y, test_size=0.25, random_state=1000)\n",
    "    \n",
    "    vectorizer = CountVectorizer()\n",
    "    vectorizer.fit(sentences_train)\n",
    "    X_train = vectorizer.transform(sentences_train)\n",
    "    X_test  = vectorizer.transform(sentences_test)\n",
    "    \n",
    "    classifier = LogisticRegression()\n",
    "    classifier.fit(X_train, y_train)\n",
    "    score = classifier.score(X_test, y_test)\n",
    "    print(f'Accuracy for {source} data: {score}')"
   ]
  },
  {
   "cell_type": "markdown",
   "metadata": {},
   "source": [
    "# 3. A Primer on (Deep) Neural Networks\n",
    "\n",
    "[Deep Learning book](http://www.deeplearningbook.org/) by Ian Goodfellow to dig deeper into the math.\n",
    " \n",
    "Neural networks have moved into several fields involving classification, regression and even generative models. The most prevalent fields include computer vision, voice recognition and NLP.\n",
    "\n",
    "intuitive visual understanding of the math involved, you can check out the [YouTube Playlist](https://www.youtube.com/playlist?list=PLZHQObOWTQDNU6R1_67000Dx_ZCJB-3pi) by Grant Sanderson.\n",
    "\n",
    "Optimisation methods (also called optimisers) like the gradient descent reduce the error between the computed and the desired output (also called target output). The error is determined by a loss function whose loss we want to minimise with the optimiser. Most common optimizer currently used is called Adam which has a good performance in various problems.\n",
    "\n",
    "You can also use different loss functions like the binary cross entropy loss function which is used for binary classification problems. Be sure to experiment with the various available methods and tools."
   ]
  },
  {
   "cell_type": "markdown",
   "metadata": {},
   "source": [
    "# 4. Keras\n",
    "\n",
    "Keras is a deep learning and neural networks API by François Chollet which is capable of running on top of Tensorflow (Google), Theano or CNTK (Microsoft). \n",
    "\n",
    "Great way to start experimenting with neural networks without having to implement every layer and piece on your own. For example Tensorflow is a great machine learning library, but you have to implement a lot of boilerplate code to have a model running."
   ]
  },
  {
   "cell_type": "code",
   "execution_count": 15,
   "metadata": {},
   "outputs": [
    {
     "name": "stderr",
     "output_type": "stream",
     "text": [
      "Using TensorFlow backend.\n"
     ]
    },
    {
     "name": "stdout",
     "output_type": "stream",
     "text": [
      "WARNING:tensorflow:From C:\\Users\\Intern\\Anaconda3\\envs\\keras\\lib\\site-packages\\keras\\backend\\tensorflow_backend.py:74: The name tf.get_default_graph is deprecated. Please use tf.compat.v1.get_default_graph instead.\n",
      "\n",
      "WARNING:tensorflow:From C:\\Users\\Intern\\Anaconda3\\envs\\keras\\lib\\site-packages\\keras\\backend\\tensorflow_backend.py:517: The name tf.placeholder is deprecated. Please use tf.compat.v1.placeholder instead.\n",
      "\n",
      "WARNING:tensorflow:From C:\\Users\\Intern\\Anaconda3\\envs\\keras\\lib\\site-packages\\keras\\backend\\tensorflow_backend.py:4138: The name tf.random_uniform is deprecated. Please use tf.random.uniform instead.\n",
      "\n"
     ]
    }
   ],
   "source": [
    "from keras.models import Sequential\n",
    "from keras import layers\n",
    "\n",
    "# Add layers 1 by 1 to build Sequential model, which is a linear stack of layers, where you can use the large variety of available layers in Keras\n",
    "input_dim = X_train.shape[1]  # Number of features\n",
    "\n",
    "model = Sequential()\n",
    "model.add(layers.Dense(10, input_dim=input_dim, activation='relu'))  # ReLU for hidden layers\n",
    "model.add(layers.Dense(1, activation='sigmoid'))"
   ]
  },
  {
   "cell_type": "code",
   "execution_count": 16,
   "metadata": {},
   "outputs": [
    {
     "name": "stdout",
     "output_type": "stream",
     "text": [
      "WARNING:tensorflow:From C:\\Users\\Intern\\Anaconda3\\envs\\keras\\lib\\site-packages\\keras\\optimizers.py:790: The name tf.train.Optimizer is deprecated. Please use tf.compat.v1.train.Optimizer instead.\n",
      "\n",
      "WARNING:tensorflow:From C:\\Users\\Intern\\Anaconda3\\envs\\keras\\lib\\site-packages\\keras\\backend\\tensorflow_backend.py:3376: The name tf.log is deprecated. Please use tf.math.log instead.\n",
      "\n",
      "WARNING:tensorflow:From C:\\Users\\Intern\\Anaconda3\\envs\\keras\\lib\\site-packages\\tensorflow_core\\python\\ops\\nn_impl.py:183: where (from tensorflow.python.ops.array_ops) is deprecated and will be removed in a future version.\n",
      "Instructions for updating:\n",
      "Use tf.where in 2.0, which has the same broadcast rule as np.where\n",
      "_________________________________________________________________\n",
      "Layer (type)                 Output Shape              Param #   \n",
      "=================================================================\n",
      "dense_1 (Dense)              (None, 10)                25060     \n",
      "_________________________________________________________________\n",
      "dense_2 (Dense)              (None, 1)                 11        \n",
      "=================================================================\n",
      "Total params: 25,071\n",
      "Trainable params: 25,071\n",
      "Non-trainable params: 0\n",
      "_________________________________________________________________\n"
     ]
    }
   ],
   "source": [
    "# Configure learning process with .compile() method which specifies the optimiser and loss function\n",
    "# Can add list of metrics which can be used later for evaluation\n",
    "# .summary() gives an overview of model and number of parameters available for training\n",
    "\n",
    "model.compile(loss='binary_crossentropy', \n",
    "              optimizer='adam', \n",
    "              metrics=['accuracy'])\n",
    "model.summary()"
   ]
  },
  {
   "cell_type": "code",
   "execution_count": 17,
   "metadata": {},
   "outputs": [
    {
     "name": "stdout",
     "output_type": "stream",
     "text": [
      "WARNING:tensorflow:From C:\\Users\\Intern\\Anaconda3\\envs\\keras\\lib\\site-packages\\keras\\backend\\tensorflow_backend.py:986: The name tf.assign_add is deprecated. Please use tf.compat.v1.assign_add instead.\n",
      "\n",
      "WARNING:tensorflow:From C:\\Users\\Intern\\Anaconda3\\envs\\keras\\lib\\site-packages\\keras\\backend\\tensorflow_backend.py:973: The name tf.assign is deprecated. Please use tf.compat.v1.assign instead.\n",
      "\n",
      "WARNING:tensorflow:From C:\\Users\\Intern\\Anaconda3\\envs\\keras\\lib\\site-packages\\keras\\backend\\tensorflow_backend.py:2741: The name tf.Session is deprecated. Please use tf.compat.v1.Session instead.\n",
      "\n",
      "WARNING:tensorflow:From C:\\Users\\Intern\\Anaconda3\\envs\\keras\\lib\\site-packages\\keras\\backend\\tensorflow_backend.py:174: The name tf.get_default_session is deprecated. Please use tf.compat.v1.get_default_session instead.\n",
      "\n",
      "WARNING:tensorflow:From C:\\Users\\Intern\\Anaconda3\\envs\\keras\\lib\\site-packages\\keras\\backend\\tensorflow_backend.py:181: The name tf.ConfigProto is deprecated. Please use tf.compat.v1.ConfigProto instead.\n",
      "\n",
      "WARNING:tensorflow:From C:\\Users\\Intern\\Anaconda3\\envs\\keras\\lib\\site-packages\\keras\\backend\\tensorflow_backend.py:190: The name tf.global_variables is deprecated. Please use tf.compat.v1.global_variables instead.\n",
      "\n",
      "WARNING:tensorflow:From C:\\Users\\Intern\\Anaconda3\\envs\\keras\\lib\\site-packages\\keras\\backend\\tensorflow_backend.py:199: The name tf.is_variable_initialized is deprecated. Please use tf.compat.v1.is_variable_initialized instead.\n",
      "\n",
      "WARNING:tensorflow:From C:\\Users\\Intern\\Anaconda3\\envs\\keras\\lib\\site-packages\\keras\\backend\\tensorflow_backend.py:206: The name tf.variables_initializer is deprecated. Please use tf.compat.v1.variables_initializer instead.\n",
      "\n"
     ]
    }
   ],
   "source": [
    "history = model.fit(X_train, y_train,\n",
    "                    epochs=100,\n",
    "                    verbose=False,\n",
    "                    validation_data=(X_test, y_test),\n",
    "                    batch_size=10)"
   ]
  },
  {
   "cell_type": "markdown",
   "metadata": {},
   "source": [
    "Now you can use the .evaluate() method to measure the accuracy of the model. You can do this both for the training data and testing data. We expect that the training data has a higher accuracy then for the testing data. The longer you would train a neural network, the more likely it is that it starts overfitting.\n",
    "\n",
    "Note that if you rerun the .fit() method, you’ll start off with the computed weights from the previous training. Make sure to **compile the model again** before you start training the model again."
   ]
  },
  {
   "cell_type": "code",
   "execution_count": 18,
   "metadata": {},
   "outputs": [
    {
     "name": "stdout",
     "output_type": "stream",
     "text": [
      "561/561 [==============================] - 0s 56us/step\n",
      "Training Accuracy: 1.0000\n",
      "Testing Accuracy:  0.7807\n"
     ]
    }
   ],
   "source": [
    "loss, accuracy = model.evaluate(X_train, y_train, verbose=True)\n",
    "print(\"Training Accuracy: {:.4f}\".format(accuracy))\n",
    "loss, accuracy = model.evaluate(X_test, y_test, verbose=False)\n",
    "print(\"Testing Accuracy:  {:.4f}\".format(accuracy))"
   ]
  },
  {
   "cell_type": "markdown",
   "metadata": {},
   "source": [
    "To make your life easier, you can use this little helper function to visualize the loss and accuracy for the training and testing data based on the Historycallback.\n",
    "\n",
    "This callback, which is automatically applied to each Keras model, records the loss and additional metrics that can be added in the .fit() method. In this case, we are only interested in the accuracy. This helper function employs the matplotlib plotting library."
   ]
  },
  {
   "cell_type": "code",
   "execution_count": 19,
   "metadata": {},
   "outputs": [],
   "source": [
    "import matplotlib.pyplot as plt\n",
    "plt.style.use('ggplot')\n",
    "\n",
    "def plot_history(history):\n",
    "    acc = history.history['acc']\n",
    "    val_acc = history.history['val_acc']\n",
    "    loss = history.history['loss']\n",
    "    val_loss = history.history['val_loss']\n",
    "    x = range(1, len(acc) + 1)\n",
    "\n",
    "    plt.figure(figsize=(12, 5))\n",
    "    plt.subplot(1, 2, 1)\n",
    "    plt.plot(x, acc, 'b', label='Training acc')\n",
    "    plt.plot(x, val_acc, 'r', label='Validation acc')\n",
    "    plt.title('Training and validation accuracy')\n",
    "    plt.legend()\n",
    "    plt.subplot(1, 2, 2)\n",
    "    plt.plot(x, loss, 'b', label='Training loss')\n",
    "    plt.plot(x, val_loss, 'r', label='Validation loss')\n",
    "    plt.title('Training and validation loss')\n",
    "    plt.legend()"
   ]
  },
  {
   "cell_type": "code",
   "execution_count": 20,
   "metadata": {},
   "outputs": [
    {
     "data": {
      "text/plain": [
       "<keras.callbacks.History at 0x1603bda4cf8>"
      ]
     },
     "execution_count": 20,
     "metadata": {},
     "output_type": "execute_result"
    }
   ],
   "source": [
    "# To use this function, simply call plot_history() with the collected accuracy and loss inside the history dictionary:\n",
    "history"
   ]
  },
  {
   "cell_type": "code",
   "execution_count": 21,
   "metadata": {},
   "outputs": [
    {
     "data": {
      "image/png": "[encoded data removed]",
      "text/plain": [
       "<Figure size 864x360 with 2 Axes>"
      ]
     },
     "metadata": {},
     "output_type": "display_data"
    }
   ],
   "source": [
    "plot_history(history)"
   ]
  },
  {
   "cell_type": "markdown",
   "metadata": {},
   "source": [
    "A good way to see when the model starts overfitting is when the loss of the validation data starts rising again. This tends to be a good point to stop the model. You can see this around 20-40 epochs in this training."
   ]
  },
  {
   "cell_type": "markdown",
   "metadata": {},
   "source": [
    "### Difference between testing and validation sets\n",
    "\n",
    "Note: When training neural networks, you should use a separate testing and validation set. What you would usually do is take the model with the highest validation accuracy and then test the model with the testing set.\n",
    "\n",
    "This makes sure that you don’t overfit the model. Using the validation set to choose the best model is a form of data leakage (or “cheating”) to get to pick the result that produced the best test score out of hundreds of them. Data leakage happens when information outside the training data set is used in the model.\n",
    "\n",
    "In this case, our testing and validation set are the same, since we have a smaller sample size. In the next part, you’ll see a different way to represent words as vectors."
   ]
  },
  {
   "cell_type": "markdown",
   "metadata": {},
   "source": [
    "# 5. Word Embeddings\n",
    "\n",
    "In the previous BOW model, you have seen how to represent a whole sequence of words as a single feature vector. Now you will see how to represent each word as a vector. Some ways to vectorise text:\n",
    "\n",
    "1. Words represented by each word as a vector\n",
    "9. Characters represented by each character as a vector\n",
    "6. N-grams of words/characters represented as a vector (N-grams are overlapping groups of multiple succeeding words/characters in the text)\n",
    "\n",
    "Two possible ways to represent a word as a vector are one-hot encoding and word embeddings."
   ]
  },
  {
   "cell_type": "markdown",
   "metadata": {},
   "source": [
    "## One-Hot Encoding"
   ]
  },
  {
   "cell_type": "code",
   "execution_count": 22,
   "metadata": {},
   "outputs": [
    {
     "data": {
      "text/plain": [
       "['London', 'Berlin', 'Berlin', 'New York', 'London']"
      ]
     },
     "execution_count": 22,
     "metadata": {},
     "output_type": "execute_result"
    }
   ],
   "source": [
    "cities = ['London', 'Berlin', 'Berlin', 'New York', 'London']\n",
    "cities"
   ]
  },
  {
   "cell_type": "code",
   "execution_count": 23,
   "metadata": {},
   "outputs": [
    {
     "data": {
      "text/plain": [
       "array([1, 0, 0, 2, 1], dtype=int64)"
      ]
     },
     "execution_count": 23,
     "metadata": {},
     "output_type": "execute_result"
    }
   ],
   "source": [
    "from sklearn.preprocessing import LabelEncoder\n",
    "\n",
    "#  Use scikit-learn and the LabelEncoder to encode the list of cities into categorical integer values\n",
    "encoder = LabelEncoder()\n",
    "city_labels = encoder.fit_transform(cities)\n",
    "city_labels\n"
   ]
  },
  {
   "cell_type": "code",
   "execution_count": 24,
   "metadata": {},
   "outputs": [
    {
     "data": {
      "text/plain": [
       "array([[0., 1., 0.],\n",
       "       [1., 0., 0.],\n",
       "       [1., 0., 0.],\n",
       "       [0., 0., 1.],\n",
       "       [0., 1., 0.]])"
      ]
     },
     "execution_count": 24,
     "metadata": {},
     "output_type": "execute_result"
    }
   ],
   "source": [
    "from sklearn.preprocessing import OneHotEncoder\n",
    "\n",
    "# Use the OneHotEncoder provided by scikit-learn to encode the categorical values into a one-hot encoded numeric array. \n",
    "# OneHotEncoder expects each categorical value to be in a separate row, so reshape the array then apply the encoder\n",
    "encoder = OneHotEncoder(sparse=False)\n",
    "city_labels = city_labels.reshape((5, 1))\n",
    "encoder.fit_transform(city_labels)"
   ]
  },
  {
   "cell_type": "markdown",
   "metadata": {},
   "source": [
    "The array's column headers would be 0, 1, 2. 1st row shows one '1', 2nd row shows one '0', 3rd shows another '0', and so on.\n",
    "\n",
    "One use case for this encoding is of course words in a text but it is most prominently used for categories. Such categories can be for example city, department, or other categories."
   ]
  },
  {
   "cell_type": "markdown",
   "metadata": {},
   "source": [
    "## Word Embeddings\n",
    "\n",
    "This method represents words as dense word vectors (also called word embeddings) which are trained unlike the one-hot encoding which are hardcoded. This means that the word embeddings collect more information into fewer dimensions.\n",
    "\n",
    "Word embeddings do not understand the text as a human would, but they rather map the statistical structure of the language used in the corpus. Their aim is to map semantic meaning into a geometric space.\n",
    "\n",
    "E.g. King - Man + Woman = Queen"
   ]
  },
  {
   "cell_type": "code",
   "execution_count": 25,
   "metadata": {},
   "outputs": [
    {
     "name": "stdout",
     "output_type": "stream",
     "text": [
      "I am a fan of his ... This movie sucked really bad.  \n",
      "[7, 150, 2, 932, 4, 49, 6, 11, 563, 45, 30]\n"
     ]
    }
   ],
   "source": [
    "from keras.preprocessing.text import Tokenizer\n",
    "\n",
    "tokenizer = Tokenizer(num_words=5000)\n",
    "tokenizer.fit_on_texts(sentences_train)\n",
    "\n",
    "X_train = tokenizer.texts_to_sequences(sentences_train)\n",
    "X_test = tokenizer.texts_to_sequences(sentences_test)\n",
    "\n",
    "vocab_size = len(tokenizer.word_index) + 1  # Adding 1 because of reserved 0 index\n",
    "\n",
    "print(sentences_train[2])\n",
    "print(X_train[2])\n"
   ]
  },
  {
   "cell_type": "code",
   "execution_count": 26,
   "metadata": {},
   "outputs": [
    {
     "name": "stdout",
     "output_type": "stream",
     "text": [
      "the: 1\n",
      "all: 27\n"
     ]
    },
    {
     "ename": "KeyError",
     "evalue": "'happy'",
     "output_type": "error",
     "traceback": [
      "\u001b[1;31m---------------------------------------------------------------------------\u001b[0m",
      "\u001b[1;31mKeyError\u001b[0m                                  Traceback (most recent call last)",
      "\u001b[1;32m<ipython-input-26-2e31052552d5>\u001b[0m in \u001b[0;36m<module>\u001b[1;34m\u001b[0m\n\u001b[0;32m      1\u001b[0m \u001b[1;32mfor\u001b[0m \u001b[0mword\u001b[0m \u001b[1;32min\u001b[0m \u001b[1;33m[\u001b[0m\u001b[1;34m'the'\u001b[0m\u001b[1;33m,\u001b[0m \u001b[1;34m'all'\u001b[0m\u001b[1;33m,\u001b[0m \u001b[1;34m'happy'\u001b[0m\u001b[1;33m,\u001b[0m \u001b[1;34m'sad'\u001b[0m\u001b[1;33m]\u001b[0m\u001b[1;33m:\u001b[0m\u001b[1;33m\u001b[0m\u001b[1;33m\u001b[0m\u001b[0m\n\u001b[0;32m      2\u001b[0m     \u001b[1;31m# Give me the ranking (index) of each word in the list\u001b[0m\u001b[1;33m\u001b[0m\u001b[1;33m\u001b[0m\u001b[1;33m\u001b[0m\u001b[0m\n\u001b[1;32m----> 3\u001b[1;33m     \u001b[0mprint\u001b[0m\u001b[1;33m(\u001b[0m\u001b[1;34mf'{word}: {tokenizer.word_index[word]}'\u001b[0m\u001b[1;33m)\u001b[0m\u001b[1;33m\u001b[0m\u001b[1;33m\u001b[0m\u001b[0m\n\u001b[0m",
      "\u001b[1;31mKeyError\u001b[0m: 'happy'"
     ]
    }
   ],
   "source": [
    "for word in ['the', 'all', 'happy', 'sad']:\n",
    "    # Give me the ranking (index) of each word in the list\n",
    "    print(f'{word}: {tokenizer.word_index[word]}')"
   ]
  },
  {
   "cell_type": "markdown",
   "metadata": {},
   "source": [
    "Note: Pay close attention to the difference between this technique and the X_train that was produced by scikit-learn’s CountVectorizer.\n",
    "\n",
    "With CountVectorizer, we had stacked vectors of word counts, and each vector was the same length (the size of the total corpus vocabulary). With Tokenizer, the resulting vectors equal the length of each text, and the numbers don’t denote counts, but rather correspond to the word values from the dictionary tokenizer.word_index.\n",
    "\n",
    "One problem that we have is that each text sequence has in most cases **different length of words**. To counter this, you can use **pad_sequence()** which simply pads the sequence of words with zeros. By default, it prepends zeros but we want to append them. Typically it does not matter whether you prepend or append zeros.\n",
    "\n",
    "Additionally you would want to add a **maxlen parameter** to specify how long the sequences should be. This cuts sequences that exceed that number. In the following code, you can see how to pad sequences with Keras:"
   ]
  },
  {
   "cell_type": "code",
   "execution_count": null,
   "metadata": {},
   "outputs": [],
   "source": [
    "from keras.preprocessing.sequence import pad_sequences\n",
    "\n",
    "maxlen = 100\n",
    "\n",
    "# Append 0s padding for train and test\n",
    "# This is why 0 is a reserved index\n",
    "X_train = pad_sequences(X_train, padding='post', maxlen=maxlen)\n",
    "X_test = pad_sequences(X_test, padding='post', maxlen=maxlen)\n",
    "\n",
    "# print all indexes for first sentence\n",
    "print(X_train[0, :])"
   ]
  },
  {
   "cell_type": "markdown",
   "metadata": {},
   "source": [
    "## Keras Embedding Layer\n",
    "\n",
    "Embedding Layer of Keras takes previously calculated integers and maps them to a dense vector of the emedding. Need these parameters:\n",
    "\n",
    "input_dim: vocab size\n",
    "\n",
    "output_dim: dense vector size\n",
    "\n",
    "input_length: sequence length\n",
    "\n",
    " One way would be to take the output of the embedding layer and plug it into a Dense layer. In order to do this you have to add a **Flatten** layer in between that prepares the sequential input for the Dense layer:"
   ]
  },
  {
   "cell_type": "code",
   "execution_count": null,
   "metadata": {},
   "outputs": [],
   "source": [
    "from keras.models import Sequential\n",
    "from keras import layers\n",
    "\n",
    "embedding_dim = 50\n",
    "\n",
    "model = Sequential()\n",
    "model.add(layers.Embedding(input_dim=vocab_size, \n",
    "                           output_dim=embedding_dim, \n",
    "                           input_length=maxlen))\n",
    "model.add(layers.Flatten())\n",
    "model.add(layers.Dense(10, activation='relu'))\n",
    "model.add(layers.Dense(1, activation='sigmoid'))\n",
    "model.compile(optimizer='adam',\n",
    "              loss='binary_crossentropy',\n",
    "              metrics=['accuracy'])\n",
    "model.summary()"
   ]
  },
  {
   "cell_type": "markdown",
   "metadata": {},
   "source": [
    "You can now see that we have 87350 new parameters to train. This number comes from vocab_size times the embedding_dim. These weights of the embedding layer are initialized with random weights and are then adjusted through backpropagation during training. \n",
    "\n",
    "Now Train."
   ]
  },
  {
   "cell_type": "code",
   "execution_count": null,
   "metadata": {
    "scrolled": false
   },
   "outputs": [],
   "source": [
    "history = model.fit(X_train, y_train,\n",
    "                    epochs=20,\n",
    "                    verbose=False,\n",
    "                    validation_data=(X_test, y_test),\n",
    "                    batch_size=10)\n",
    "loss, accuracy = model.evaluate(X_train, y_train, verbose=False)\n",
    "print(\"Training Accuracy: {:.4f}\".format(accuracy))\n",
    "loss, accuracy = model.evaluate(X_test, y_test, verbose=False)\n",
    "print(\"Testing Accuracy:  {:.4f}\".format(accuracy))\n",
    "plot_history(history)"
   ]
  },
  {
   "cell_type": "markdown",
   "metadata": {},
   "source": [
    "Not good.\n",
    "\n",
    "Another way to work with embeddings is by using a MaxPooling1D/AveragePooling1D or a GlobalMaxPooling1D/GlobalAveragePooling1D layer after the embedding. You can think of the pooling layers as a way to downsample (a way to reduce the size of) the incoming feature vectors.\n",
    "\n",
    "In the case of max pooling you take the maximum value of all features in the pool for each feature dimension."
   ]
  },
  {
   "cell_type": "code",
   "execution_count": null,
   "metadata": {},
   "outputs": [],
   "source": [
    "from keras.models import Sequential\n",
    "from keras import layers\n",
    "\n",
    "embedding_dim = 50\n",
    "\n",
    "model = Sequential()\n",
    "model.add(layers.Embedding(input_dim=vocab_size, \n",
    "                           output_dim=embedding_dim, \n",
    "                           input_length=maxlen))\n",
    "model.add(layers.Flatten())\n",
    "model.add(layers.Dense(10, activation='relu'))\n",
    "model.add(layers.Dense(1, activation='sigmoid'))\n",
    "model.compile(optimizer='adam',\n",
    "              loss='binary_crossentropy',\n",
    "              metrics=['accuracy'])\n",
    "model.summary()"
   ]
  },
  {
   "cell_type": "code",
   "execution_count": null,
   "metadata": {},
   "outputs": [],
   "source": [
    "history = model.fit(X_train, y_train,\n",
    "                    epochs=50,\n",
    "                    verbose=False,\n",
    "                    validation_data=(X_test, y_test),\n",
    "                    batch_size=10)\n",
    "loss, accuracy = model.evaluate(X_train, y_train, verbose=False)\n",
    "print(\"Training Accuracy: {:.4f}\".format(accuracy))\n",
    "loss, accuracy = model.evaluate(X_test, y_test, verbose=False)\n",
    "print(\"Testing Accuracy:  {:.4f}\".format(accuracy))\n",
    "plot_history(history)"
   ]
  },
  {
   "cell_type": "markdown",
   "metadata": {},
   "source": [
    "## Using Pretrained Word Embeddings"
   ]
  },
  {
   "cell_type": "markdown",
   "metadata": {},
   "source": [
    "We just saw an example of jointly learning word embeddings incorporated into the larger model that we want to solve.\n",
    "\n",
    "An alternative is to use a precomputed embedding space that utilizes a much larger corpus. It is possible to precompute word embeddings by simply training them on a large corpus of text. \n",
    "Among the most popular methods are Word2Vec and GloVe.\n",
    "\n",
    "Note that those are different approaches with the same goal. Word2Vec achieves this by employing neural networks and GloVe achieves this with a co-occurrence matrix and by using matrix factorization. In both cases you are dealing with dimensionality reduction, but Word2Vec is more accurate and GloVe is faster to compute.\n"
   ]
  },
  {
   "cell_type": "markdown",
   "metadata": {},
   "source": [
    "Since you don’t need all words, you can focus on only the words that we have in our vocabulary. Since we have only a limited number of words in our vocabulary, we can **skip most of the 40000 words in the pretrained word embeddings**:"
   ]
  },
  {
   "cell_type": "markdown",
   "metadata": {},
   "source": [
    "head -n 1 data/glove_word_embeddings/glove.6B.50d.txt | cut -c-50"
   ]
  },
  {
   "cell_type": "code",
   "execution_count": null,
   "metadata": {},
   "outputs": [],
   "source": [
    "import numpy as np\n",
    "\n",
    "def create_embedding_matrix(filepath, word_index, embedding_dim):\n",
    "    vocab_size = len(word_index) + 1  # Adding again 1 because of reserved 0 index\n",
    "    embedding_matrix = np.zeros((vocab_size, embedding_dim))\n",
    "\n",
    "    with open(filepath, encoding=\"utf-8\") as f:\n",
    "        for line in f:\n",
    "            word, *vector = line.split()\n",
    "            if word in word_index:\n",
    "                idx = word_index[word] \n",
    "                embedding_matrix[idx] = np.array(\n",
    "                    vector, dtype=np.float32)[:embedding_dim]\n",
    "\n",
    "    return embedding_matrix"
   ]
  },
  {
   "cell_type": "markdown",
   "metadata": {},
   "source": [
    "Use this function now to retrieve the embedding matrix:"
   ]
  },
  {
   "cell_type": "code",
   "execution_count": null,
   "metadata": {},
   "outputs": [],
   "source": [
    "embedding_dim = 50\n",
    "embedding_matrix = create_embedding_matrix(\n",
    "    'sentiment_analysis/glove.6B.50d.txt',\n",
    "    tokenizer.word_index, embedding_dim)"
   ]
  },
  {
   "cell_type": "code",
   "execution_count": null,
   "metadata": {},
   "outputs": [],
   "source": [
    "embedding_matrix"
   ]
  },
  {
   "cell_type": "markdown",
   "metadata": {},
   "source": [
    "First, let’s have a quick look how many of the embedding vectors are nonzero:"
   ]
  },
  {
   "cell_type": "code",
   "execution_count": null,
   "metadata": {},
   "outputs": [],
   "source": [
    "nonzero_elements_1 = np.count_nonzero(embedding_matrix, axis=1)\n",
    "nonzero_elements_1"
   ]
  },
  {
   "cell_type": "code",
   "execution_count": null,
   "metadata": {},
   "outputs": [],
   "source": [
    "nonzero_elements = np.count_nonzero(nonzero_elements_1)\n",
    "nonzero_elements"
   ]
  },
  {
   "cell_type": "code",
   "execution_count": null,
   "metadata": {},
   "outputs": [],
   "source": [
    "nonzero_elements / vocab_size"
   ]
  },
  {
   "cell_type": "markdown",
   "metadata": {},
   "source": [
    "This means 95.1% of the vocabulary is covered by the pretrained model, which is a good coverage of our vocabulary."
   ]
  },
  {
   "cell_type": "markdown",
   "metadata": {},
   "source": [
    "Let’s go ahead and use the previous network with global max pooling and see if we can improve this model. When you use pretrained word embeddings you have the choice to either allow the embedding to be updated during training or only use the resulting embedding vectors as they are."
   ]
  },
  {
   "cell_type": "markdown",
   "metadata": {},
   "source": [
    "Let’s have a look at the performance when using the GlobalMaxPool1D layer:"
   ]
  },
  {
   "cell_type": "code",
   "execution_count": null,
   "metadata": {},
   "outputs": [],
   "source": [
    "model = Sequential()\n",
    "model.add(layers.Embedding(vocab_size, embedding_dim, \n",
    "                           weights=[embedding_matrix], \n",
    "                           input_length=maxlen, \n",
    "                           trainable=False))\n",
    "model.add(layers.GlobalMaxPool1D())\n",
    "model.add(layers.Dense(10, activation='relu'))\n",
    "model.add(layers.Dense(1, activation='sigmoid'))\n",
    "model.compile(optimizer='adam',\n",
    "              loss='binary_crossentropy',\n",
    "              metrics=['accuracy'])\n",
    "model.summary()"
   ]
  },
  {
   "cell_type": "code",
   "execution_count": null,
   "metadata": {},
   "outputs": [],
   "source": [
    "history = model.fit(X_train, y_train,\n",
    "                    epochs=50,\n",
    "                    verbose=False,\n",
    "                    validation_data=(X_test, y_test),\n",
    "                    batch_size=10)\n",
    "loss, accuracy = model.evaluate(X_train, y_train, verbose=False)\n",
    "print(\"Training Accuracy: {:.4f}\".format(accuracy))\n",
    "loss, accuracy = model.evaluate(X_test, y_test, verbose=False)\n",
    "print(\"Testing Accuracy:  {:.4f}\".format(accuracy))\n",
    "plot_history(history)"
   ]
  },
  {
   "cell_type": "markdown",
   "metadata": {},
   "source": [
    "Since the word embeddings are not additionally trained, it is expected to be lower. But let’s now see how this performs if we allow the embedding to be trained by using trainable=True:"
   ]
  },
  {
   "cell_type": "code",
   "execution_count": null,
   "metadata": {},
   "outputs": [],
   "source": [
    "model = Sequential()\n",
    "model.add(layers.Embedding(vocab_size, embedding_dim, \n",
    "                           weights=[embedding_matrix], \n",
    "                           input_length=maxlen, \n",
    "                           trainable=True))\n",
    "model.add(layers.GlobalMaxPool1D())\n",
    "model.add(layers.Dense(10, activation='relu'))\n",
    "model.add(layers.Dense(1, activation='sigmoid'))\n",
    "model.compile(optimizer='adam',\n",
    "              loss='binary_crossentropy',\n",
    "              metrics=['accuracy'])\n",
    "model.summary()"
   ]
  },
  {
   "cell_type": "code",
   "execution_count": null,
   "metadata": {},
   "outputs": [],
   "source": [
    "history = model.fit(X_train, y_train,\n",
    "                    epochs=50,\n",
    "                    verbose=False,\n",
    "                    validation_data=(X_test, y_test),\n",
    "                    batch_size=10)\n",
    "loss, accuracy = model.evaluate(X_train, y_train, verbose=False)\n",
    "print(\"Training Accuracy: {:.4f}\".format(accuracy))\n",
    "loss, accuracy = model.evaluate(X_test, y_test, verbose=False)\n",
    "print(\"Testing Accuracy:  {:.4f}\".format(accuracy))\n",
    "plot_history(history)"
   ]
  },
  {
   "cell_type": "markdown",
   "metadata": {},
   "source": [
    "You can see that it is most effective to allow the embeddings to be trained. In our case it did not help much but this does not have to be because of pretrained word embeddings."
   ]
  },
  {
   "cell_type": "markdown",
   "metadata": {},
   "source": [
    "# 6. Convolutional Neural Networks (CNN)\n",
    "\n",
    "Covnets have revolutionized image classification and computer vision by being able to extract features from images and using them in neural networks. The properties that made them useful in image processing makes them also handy for sequence processing. You can imagine a CNN as a specialized neural network that is able to detect specific patterns.\n",
    "\n",
    "A CNN has hidden layers which are called convolutional layers. When you think of images, a computer has to deal with a two dimensional matrix of numbers and therefore you need some way to detect features in this matrix. These convolutional layers are able to detect edges, corners and other kinds of textures which makes them such a special tool. The convolutional layer consists of multiple filters which are slid across the image and are able to detect specific features.\n",
    "\n",
    "This is the very core of the technique, the mathematical process of convolution. With each convolutional layer the network is able to detect more complex patterns."
   ]
  },
  {
   "cell_type": "markdown",
   "metadata": {},
   "source": [
    "For this layer, parameters for now are the number of filters, the kernel size, and the activation function. Add this layer in between the Embedding layer and the GlobalMaxPool1D layer:"
   ]
  },
  {
   "cell_type": "code",
   "execution_count": null,
   "metadata": {},
   "outputs": [],
   "source": [
    "embedding_dim = 100\n",
    "\n",
    "model = Sequential()\n",
    "model.add(layers.Embedding(vocab_size, embedding_dim, input_length=maxlen))\n",
    "model.add(layers.Conv1D(128, 5, activation='relu')) ###\n",
    "model.add(layers.GlobalMaxPooling1D())\n",
    "model.add(layers.Dense(10, activation='relu'))\n",
    "model.add(layers.Dense(1, activation='sigmoid'))\n",
    "model.compile(optimizer='adam',\n",
    "              loss='binary_crossentropy',\n",
    "              metrics=['accuracy'])\n",
    "model.summary()"
   ]
  },
  {
   "cell_type": "code",
   "execution_count": null,
   "metadata": {},
   "outputs": [],
   "source": [
    "history = model.fit(X_train, y_train,\n",
    "                    epochs=10,\n",
    "                    verbose=False,\n",
    "                    validation_data=(X_test, y_test),\n",
    "                    batch_size=10)\n",
    "loss, accuracy = model.evaluate(X_train, y_train, verbose=False)\n",
    "print(\"Training Accuracy: {:.4f}\".format(accuracy))\n",
    "loss, accuracy = model.evaluate(X_test, y_test, verbose=False)\n",
    "print(\"Testing Accuracy:  {:.4f}\".format(accuracy))\n",
    "plot_history(history)"
   ]
  },
  {
   "cell_type": "markdown",
   "metadata": {},
   "source": [
    "You can see that 80% accuracy seems to be tough hurdle to overcome with this data set and a CNN might not be well equipped. The reason for such a plateau might be that:\n",
    "\n",
    "1. There are not enough training samples\n",
    "5. The data you have does not generalize well\n",
    "6. Missing focus on tweaking the hyperparameters\n",
    "\n",
    "CNNs work best with **large** training sets where they are able to **find generalizations** where a simple model like logistic regression won’t be able."
   ]
  },
  {
   "cell_type": "markdown",
   "metadata": {},
   "source": [
    "# 7. Hyperparameters Optimisation\n",
    "\n",
    "As you saw in the models that we have used so far, even with simpler ones, you had a large number of parameters to tweak and choose from. Those parameters are called hyperparameters. This is the most time consuming part of machine learning and sadly there are no one-fits-all solutions ready.\n",
    "\n",
    "grid search: takes a list of parameters and runs model with each parameter combination (mos thorough but most computationally heavy)\n",
    "\n",
    "random search: takes random combinations of parameters"
   ]
  },
  {
   "cell_type": "markdown",
   "metadata": {},
   "source": [
    "In order to apply random search with Keras, you will need to use the KerasClassifier which serves as a wrapper for the scikit-learn API. With this wrapper you are able to use the various tools available with scikit-learn like cross-validation. The class that you need is RandomizedSearchCV which implements random search with cross-validation. \n",
    "\n",
    "cross-validation: a way to validate the model and take the whole data set and separate it into multiple testing and training data sets. \n",
    "\n",
    "nested cross-validation: used when the hyperparameters also need to be optimized. This is used because the resulting non-nested CV model has a bias toward the data set which can lead to an overly optimistic score. You see, when doing hyperparameter optimization as we did in the following example, we are picking the best hyperparameters for that specific training set but this does not mean that these hyperparameters generalize the best.\n",
    "\n",
    "k-fold cross-validation: data set is partitioned into k equal sized sets, each set is used for testing and the rest of the partitions are used for training. This enables you to run k different runs, where each partition is used once as a testing set. The higher the k is the more accurate the model evaluation is, but the smaller each testing set is.\n",
    "\n",
    "First step for KerasClassifier is to have a **function** that creates a Keras model. We will use the previous model, but we will allow various parameters to be set for the hyperparameter optimization:"
   ]
  },
  {
   "cell_type": "code",
   "execution_count": null,
   "metadata": {},
   "outputs": [],
   "source": [
    "def create_model(num_filters, kernel_size, vocab_size, embedding_dim, maxlen):\n",
    "    model = Sequential()\n",
    "    model.add(layers.Embedding(vocab_size, embedding_dim, input_length=maxlen))\n",
    "    model.add(layers.Conv1D(num_filters, kernel_size, activation='relu'))\n",
    "    model.add(layers.GlobalMaxPooling1D())\n",
    "    model.add(layers.Dense(10, activation='relu'))\n",
    "    model.add(layers.Dense(1, activation='sigmoid'))\n",
    "    model.compile(optimizer='adam',\n",
    "                  loss='binary_crossentropy',\n",
    "                  metrics=['accuracy'])\n",
    "    return model"
   ]
  },
  {
   "cell_type": "markdown",
   "metadata": {},
   "source": [
    "Next, **define the parameter grid** that you want to use in training. \n",
    "\n",
    "This consists of a dictionary with each parameters named as in the previous function. The number of spaces on the grid is 3 * 3 * 1 * 1 * 1, where each of those numbers is the number of different choices for a given parameter.\n",
    "\n",
    "You can see how this could get computationally expensive very quickly, but luckily both grid search and random search are embarrassingly parallel, and the classes come with an *n_jobs parameter* that lets you **test grid spaces in parallel**. The parameter grid is initialized with the following dictionary:"
   ]
  },
  {
   "cell_type": "code",
   "execution_count": null,
   "metadata": {},
   "outputs": [],
   "source": [
    "param_grid = dict(num_filters=[32, 64, 128],    # 3 choices\n",
    "                  kernel_size=[3, 5, 7],        # 3 choices\n",
    "                  vocab_size=[5000],            # 1 choice\n",
    "                  embedding_dim=[50],           # 1 choice\n",
    "                  maxlen=[100])                 # 1 choice\n",
    "                  # Number of spaces on grid is 3*3*1*1*1"
   ]
  },
  {
   "cell_type": "markdown",
   "metadata": {},
   "source": [
    "Now you are already ready to start running the random search. \n",
    "\n",
    "In this example we **iterate** over each data set and **preprocess** the data in the same way as previously. Afterwards you take the previous function and add it to the KerasClassifier wrapper class including the number of epochs.\n",
    "\n",
    "The resulting instance and the parameter grid are then used as the **estimator** in the RandomSearchCV class. Additionally, you can choose the number of folds (4) in the k-folds cross-validation. Most of the code are in previous examples. \n",
    "\n",
    "Besides the RandomSearchCV and KerasClassifier, I have added code handling the **evaluation**:"
   ]
  },
  {
   "cell_type": "code",
   "execution_count": null,
   "metadata": {},
   "outputs": [],
   "source": [
    "from keras.wrappers.scikit_learn import KerasClassifier\n",
    "from sklearn.model_selection import RandomizedSearchCV\n",
    "\n",
    "# Main settings\n",
    "epochs = 20\n",
    "embedding_dim = 50\n",
    "maxlen = 100\n",
    "output_file = 'sentiment_analysis/output.txt'\n",
    "\n",
    "# Run grid search for each source (yelp, amazon, imdb)\n",
    "for source, frame in df.groupby('source'):\n",
    "    print('Running grid search for data set :', source)\n",
    "    sentences = df['sentence'].values\n",
    "    y = df['label'].values\n",
    "\n",
    "    # Train-test split\n",
    "    sentences_train, sentences_test, y_train, y_test = train_test_split(\n",
    "        sentences, y, test_size=0.25, random_state=1000)\n",
    "\n",
    "    # Tokenize words\n",
    "    tokenizer = Tokenizer(num_words=5000)\n",
    "    tokenizer.fit_on_texts(sentences_train)\n",
    "    X_train = tokenizer.texts_to_sequences(sentences_train)\n",
    "    X_test = tokenizer.texts_to_sequences(sentences_test)\n",
    "\n",
    "    # Adding 1 because of reserved 0 index\n",
    "    vocab_size = len(tokenizer.word_index) + 1\n",
    "\n",
    "    # Pad sequences with zeros\n",
    "    X_train = pad_sequences(X_train, padding='post', maxlen=maxlen)\n",
    "    X_test = pad_sequences(X_test, padding='post', maxlen=maxlen)\n",
    "\n",
    "    # Parameter grid for grid search\n",
    "    param_grid = dict(num_filters=[32, 64, 128],\n",
    "                      kernel_size=[3, 5, 7],\n",
    "                      vocab_size=[vocab_size],\n",
    "                      embedding_dim=[embedding_dim],\n",
    "                      maxlen=[maxlen])\n",
    "    model = KerasClassifier(build_fn=create_model,\n",
    "                            epochs=epochs, batch_size=10,\n",
    "                            verbose=False)\n",
    "    grid = RandomizedSearchCV(estimator=model, param_distributions=param_grid,\n",
    "                              cv=4, verbose=1, n_iter=5)\n",
    "    grid_result = grid.fit(X_train, y_train)\n",
    "\n",
    "    # Evaluate testing set\n",
    "    test_accuracy = grid.score(X_test, y_test)\n",
    "    \n",
    "    # Save and evaluate results\n",
    "    prompt = input(f'finished {source}; write to file and proceed? [y/n]')\n",
    "    if prompt.lower() not in {'y', 'true', 'yes'}:\n",
    "        break\n",
    "    with open(output_file, 'a') as f:\n",
    "        s = ('Running {} data set\\nBest Accuracy : '\n",
    "             '{:.4f}\\n{}\\nTest Accuracy : {:.4f}\\n\\n')\n",
    "        output_string = s.format(\n",
    "            source,\n",
    "            grid_result.best_score_,\n",
    "            grid_result.best_params_,\n",
    "            test_accuracy)\n",
    "        print(output_string)\n",
    "        f.write(output_string)"
   ]
  },
  {
   "cell_type": "markdown",
   "metadata": {},
   "source": [
    "Interesting! For some reason the testing accuracy is *higher* than the training accuracy which might be because there is a large variance in the scores during cross-validation. We could not break through 80%, which seems to be a natural limit for this small data set."
   ]
  },
  {
   "cell_type": "markdown",
   "metadata": {},
   "source": [
    "# 8. Conclusion\n",
    "\n",
    "We have gone from a bag-of-words model with logistic regression to increasingly more advanced methods leading to convolutional neural networks.\n",
    "\n",
    "You should be familiar with word embeddings, why they are useful, and how to use pretrained word embeddings for your training. We have also seen how to work with neural networks and use hyperparameter optimization to squeeze more performance out of your model.\n",
    "\n",
    "This understanding of NLP can used for text classification of all sorts; sentiment analysis being just one of them. Other examples include:\n",
    "\n",
    "* Spam detection in emails\n",
    "* Automatic tagging of texts\n",
    "* Categorization of news articles with predefined topics\n",
    "\n",
    "You can use this knowledge and the models that you have trained on an advanced project as in this tutorial to employ sentiment analysis on a continuous stream of twitter data with Kibana and Elasticsearch. You could also combine sentiment analysis or text classification with speech recognition like in this handy tutorial using the SpeechRecognition library in Python."
   ]
  },
  {
   "cell_type": "markdown",
   "metadata": {},
   "source": [
    "### 1. Pre-processing\n",
    "\n",
    "#### 2. tokenisation\n",
    "#### 3. remove stop words\n",
    "#### 4. encode label\n",
    "#### 5. word embeddings\n",
    "\n",
    "#### 6. build a CNN (convolutional neural network) model\n",
    "\n",
    "### 7. Predict"
   ]
  },
  {
   "cell_type": "code",
   "execution_count": null,
   "metadata": {},
   "outputs": [],
   "source": [
    "# data\n",
    "DATA_DIR=\"malware_data.txt\"\n",
    "LABEL_DIR=\"label.csv\""
   ]
  },
  {
   "cell_type": "code",
   "execution_count": null,
   "metadata": {},
   "outputs": [],
   "source": [
    "import pandas as pd"
   ]
  },
  {
   "cell_type": "code",
   "execution_count": null,
   "metadata": {},
   "outputs": [],
   "source": [
    "data = pd.read_csv(DATA_DIR, sep=\"\\n\", header=None)\n",
    "data.columns=['text']\n",
    "label = pd.read_csv(LABEL_DIR)"
   ]
  },
  {
   "cell_type": "code",
   "execution_count": null,
   "metadata": {},
   "outputs": [],
   "source": [
    "data.iloc[0]"
   ]
  },
  {
   "cell_type": "code",
   "execution_count": null,
   "metadata": {},
   "outputs": [],
   "source": [
    "data.tail()"
   ]
  },
  {
   "cell_type": "code",
   "execution_count": null,
   "metadata": {},
   "outputs": [],
   "source": [
    "print(label.columns)\n",
    "print()\n",
    "print(label.iloc[0])\n",
    "print()\n",
    "label.tail()"
   ]
  },
  {
   "cell_type": "code",
   "execution_count": null,
   "metadata": {},
   "outputs": [],
   "source": [
    "ioctypes = label['ioc_type'].values\n",
    "ioctypes"
   ]
  },
  {
   "cell_type": "code",
   "execution_count": null,
   "metadata": {},
   "outputs": [],
   "source": [
    "port8080s = label[label['value'] == '8080']\n",
    "port8080s"
   ]
  },
  {
   "cell_type": "code",
   "execution_count": null,
   "metadata": {},
   "outputs": [],
   "source": [
    "from sklearn.model_selection import train_test_split\n",
    "\n",
    "sentences = data['text'].values\n",
    "labels = label['malware'].values\n",
    "sentences_train, sentences_test, labels_train, labels_test = train_test_split(sentences, labels, test_size=0.25, random_state=100)\n"
   ]
  },
  {
   "cell_type": "code",
   "execution_count": null,
   "metadata": {},
   "outputs": [],
   "source": [
    "## Pre-processing\n",
    "\n",
    "# tokenisation *** USING KERAS TOKENIZER)\n",
    "from keras.preprocessing.text import Tokenizer\n",
    "from keras.preprocessing.sequence import pad_sequences\n",
    "\n",
    "tokenizer = Tokenizer(num_words=5000)\n",
    "tokenizer.fit_on_texts(sentences_train)\n",
    "\n",
    "X_train = tokenizer.texts_to_sequences(sentences_train)\n",
    "X_test = tokenizer.texts_to_sequences(sentences_test)\n",
    "\n",
    "vocab_size = len(tokenizer.word_index) + 1  # Adding 1 because of reserved 0 index\n",
    "\n",
    "print(sentences_train[2])\n",
    "print(X_train[2])\n",
    "\n",
    "maxlen = 200\n",
    "\n",
    "X_train = pad_sequences(X_train, padding='post', maxlen=maxlen)\n",
    "X_test = pad_sequences(X_test, padding='post', maxlen=maxlen)\n",
    "\n",
    "print()\n",
    "print(X_train[0, :])"
   ]
  },
  {
   "cell_type": "code",
   "execution_count": null,
   "metadata": {},
   "outputs": [],
   "source": [
    "import nltk\n",
    "nltk.download('stopwords')"
   ]
  },
  {
   "cell_type": "code",
   "execution_count": null,
   "metadata": {},
   "outputs": [],
   "source": [
    "# TOKENISATION\n",
    "\n",
    "# Import RegexpTokenizer from nltk.tokenize\n",
    "from nltk.tokenize import RegexpTokenizer\n",
    "\n",
    "words = []\n",
    "\n",
    "# Create tokenizer\n",
    "tokenizer = RegexpTokenizer('\\w+')\n",
    "\n",
    "# Convert array to list\n",
    "sentences_train_list = list(sentences_train)\n",
    "for s in sentences_train_list:\n",
    "    # Create tokens\n",
    "    tokens = tokenizer.tokenize(s)\n",
    "    \n",
    "    # Loop through list tokens and make lower case\n",
    "    for word in tokens:\n",
    "        words.append(word.lower())\n",
    "\n",
    "# Print several items from list as sanity check\n",
    "words[:10]"
   ]
  },
  {
   "cell_type": "code",
   "execution_count": null,
   "metadata": {},
   "outputs": [],
   "source": [
    "# REMOVE STOPWORDS\n",
    "import nltk\n",
    "# nltk.download('stopwords')\n",
    "# Get English stopwords and print some of them\n",
    "sw = nltk.corpus.stopwords.words('english')\n",
    "sw[:10]"
   ]
  },
  {
   "cell_type": "code",
   "execution_count": null,
   "metadata": {},
   "outputs": [],
   "source": [
    "non_sw_words = []\n",
    "\n",
    "# Add to words_ns all words that are in words but not in sw\n",
    "for word in words:\n",
    "    if word not in sw:\n",
    "        non_sw_words.append(word)\n",
    "\n",
    "# Print several list items as sanity check\n",
    "non_sw_words[:8]"
   ]
  },
  {
   "cell_type": "code",
   "execution_count": null,
   "metadata": {},
   "outputs": [],
   "source": [
    "# ENCODE LABEL\n",
    "from sklearn.preprocessing import LabelEncoder\n",
    "\n",
    "labels_list = list(labels)\n",
    "\n",
    "#  Use scikit-learn and the LabelEncoder to encode the list of cities into categorical integer values\n",
    "encoder = LabelEncoder()\n",
    "malware_labels = encoder.fit_transform(labels_list)\n",
    "malware_labels\n",
    "\n",
    "# 0, 1, 2, 3, 4 are ids representing a specific malware. (e.g. 3: Satori and 0: Emotet)\n"
   ]
  },
  {
   "cell_type": "code",
   "execution_count": null,
   "metadata": {},
   "outputs": [],
   "source": [
    "# WORD EMBEDDINGS"
   ]
  },
  {
   "cell_type": "code",
   "execution_count": null,
   "metadata": {},
   "outputs": [],
   "source": [
    "from keras.models import Sequential\n",
    "from keras import layers\n",
    "\n",
    "input_dim = X_train.shape[1]  # Number of features\n",
    "\n",
    "model = Sequential()\n",
    "model.add(layers.Dense(10, input_dim=input_dim, activation='relu'))\n",
    "model.add(layers.Dense(1, activation='sigmoid'))"
   ]
  },
  {
   "cell_type": "code",
   "execution_count": null,
   "metadata": {},
   "outputs": [],
   "source": [
    "model.compile(loss='binary_crossentropy', \n",
    "              optimizer='adam', \n",
    "              metrics=['accuracy'])\n",
    "model.summary()"
   ]
  },
  {
   "cell_type": "code",
   "execution_count": null,
   "metadata": {},
   "outputs": [],
   "source": [
    "history = model.fit(X_train, labels_train,\n",
    "                    epochs=100,\n",
    "                    verbose=False,\n",
    "                    validation_data=(X_test, labels_test),\n",
    "                    batch_size=10)"
   ]
  },
  {
   "cell_type": "code",
   "execution_count": null,
   "metadata": {},
   "outputs": [],
   "source": [
    "! python --version"
   ]
  },
  {
   "cell_type": "code",
   "execution_count": null,
   "metadata": {},
   "outputs": [],
   "source": [
    "loss, accuracy = model.evaluate(X_train, labels_train, verbose=False)\n",
    "print(\"Training Accuracy: {:.4f}\".format(accuracy))\n",
    "loss, accuracy = model.evaluate(X_test, labels_test, verbose=False)\n",
    "print(\"Testing Accuracy:  {:.4f}\".format(accuracy))"
   ]
  },
  {
   "cell_type": "code",
   "execution_count": null,
   "metadata": {},
   "outputs": [],
   "source": [
    "# BUILD CNN MODEL\n",
    "\n",
    "# Set up CNN modela\n",
    "model = Sequential()\n",
    "model.add(layers.Embedding(vocab_size, embedding_dim, input_length=maxlen))\n",
    "model.add(layers.Conv1D(128, 5, activation='relu'))\n",
    "model.add(layers.GlobalMaxPooling1D())\n",
    "model.add(layers.Dense(10, activation='relu'))\n",
    "model.add(layers.Dense(1, activation='sigmoid'))\n",
    "model.compile(optimizer='adam',\n",
    "              loss='binary_crossentropy',\n",
    "              metrics=['accuracy'])\n",
    "model.summary()"
   ]
  },
  {
   "cell_type": "code",
   "execution_count": null,
   "metadata": {},
   "outputs": [],
   "source": [
    "# View Results\n",
    "# history = model.fit(X_train, y_train,\n",
    "#                     epochs=10,\n",
    "#                     verbose=False,\n",
    "#                     validation_data=(X_test, y_test),\n",
    "#                     batch_size=10)\n",
    "# loss, accuracy = model.evaluate(X_train, y_train, verbose=False)\n",
    "# print(\"Training Accuracy: {:.4f}\".format(accuracy))\n",
    "# loss, accuracy = model.evaluate(X_test, y_test, verbose=False)\n",
    "# print(\"Testing Accuracy:  {:.4f}\".format(accuracy))\n",
    "# plot_history(history)"
   ]
  },
  {
   "cell_type": "code",
   "execution_count": null,
   "metadata": {},
   "outputs": [],
   "source": []
  },
  {
   "cell_type": "code",
   "execution_count": null,
   "metadata": {},
   "outputs": [],
   "source": []
  },
  {
   "cell_type": "code",
   "execution_count": null,
   "metadata": {},
   "outputs": [],
   "source": [
    "# PREDICT"
   ]
  },
  {
   "cell_type": "code",
   "execution_count": null,
   "metadata": {},
   "outputs": [],
   "source": []
  }
 ],
 "metadata": {
  "kernelspec": {
   "display_name": "Python 3",
   "language": "python",
   "name": "python3"
  },
  "language_info": {
   "codemirror_mode": {
    "name": "ipython",
    "version": 3
   },
   "file_extension": ".py",
   "mimetype": "text/x-python",
   "name": "python",
   "nbconvert_exporter": "python",
   "pygments_lexer": "ipython3",
   "version": "3.6.10"
  }
 },
 "nbformat": 4,
 "nbformat_minor": 2
}
