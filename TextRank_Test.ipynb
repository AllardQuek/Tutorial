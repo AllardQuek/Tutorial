{
 "cells": [
  {
   "cell_type": "code",
   "execution_count": 43,
   "metadata": {},
   "outputs": [],
   "source": [
    "# !pip install spacy"
   ]
  },
  {
   "cell_type": "code",
   "execution_count": 44,
   "metadata": {},
   "outputs": [],
   "source": [
    "# !python -m spacy download en_core_web_sm"
   ]
  },
  {
   "cell_type": "code",
   "execution_count": 5,
   "metadata": {},
   "outputs": [
    {
     "name": "stdout",
     "output_type": "stream",
     "text": [
      "\n",
      "The Wandering Earth, described as China’s first big-budget science fiction thriller, quietly made it onto screens at AMC theaters in North America this weekend, and it shows a new side of Chinese filmmaking — one focused toward futuristic spectacles rather than China’s traditionally grand, massive historical epics. At the same time, The Wandering Earth feels like a throwback to a few familiar eras of American filmmaking. While the film’s cast, setting, and tone are all Chinese, longtime science fiction fans are going to see a lot on the screen that reminds them of other movies, for better or worse.\n",
      "\n"
     ]
    }
   ],
   "source": [
    "import spacy\n",
    "import en_core_web_sm\n",
    "nlp = en_core_web_sm.load()\n",
    "content = '''\n",
    "The Wandering Earth, described as China’s first big-budget science fiction thriller, quietly made it onto screens at AMC theaters in North America this weekend, and it shows a new side of Chinese filmmaking — one focused toward futuristic spectacles rather than China’s traditionally grand, massive historical epics. At the same time, The Wandering Earth feels like a throwback to a few familiar eras of American filmmaking. While the film’s cast, setting, and tone are all Chinese, longtime science fiction fans are going to see a lot on the screen that reminds them of other movies, for better or worse.\n",
    "'''\n",
    "doc = nlp(content)\n",
    "print(doc)"
   ]
  },
  {
   "cell_type": "code",
   "execution_count": 28,
   "metadata": {},
   "outputs": [
    {
     "data": {
      "text/plain": [
       "['hello.', 'world.']"
      ]
     },
     "execution_count": 28,
     "metadata": {},
     "output_type": "execute_result"
    }
   ],
   "source": [
    "s= ''\n",
    "a = 'hello.'\n",
    "b = 'world.'\n",
    "l = [a,b]\n",
    "l"
   ]
  },
  {
   "cell_type": "code",
   "execution_count": 33,
   "metadata": {},
   "outputs": [
    {
     "data": {
      "text/plain": [
       "'hello. world.'"
      ]
     },
     "execution_count": 33,
     "metadata": {},
     "output_type": "execute_result"
    }
   ],
   "source": [
    "' '.join(l)"
   ]
  },
  {
   "cell_type": "code",
   "execution_count": 53,
   "metadata": {
    "scrolled": false
   },
   "outputs": [
    {
     "name": "stdout",
     "output_type": "stream",
     "text": [
      "The attacks associated with the new botnet attempted to exploit the CVE-2017-17215 zero-day vulnerability in the Huawei home router caused by the fact that the TR-064 technical report standard, which was designed for local network configuration, was exposed to WAN through port 37215 (UPnP – Universal Plug and Play).\n",
      " About 12 hours ago (2017-12-05 11:57 AM GMT+8), we noticed a new version of Satori (a mirai variant which we named Satori), starting to propagate very quickly on port 37215 and 52869.\n",
      " Two new exploits, which work on port 37215 and 52869 have been added, see below for more details.\n",
      " Due to the worm like behavior, we all should be on the lookout for the port 37215 and 52869 scan traffic.\n",
      " For those who don’t have the visibility, feel free to check out our free Scanmon system for port 37215 and 52869, or ISC port pages for 37215 and 52869.\n",
      " As can be seen from the following picture, the bot will scan port 37215 and 52869 randomly, determined by the remainder of a random integer mod 3.\n",
      " During the scanning, Satori will utilize two different exploits, one on port 37215, while the other on 52869.\n",
      " The one on port 37215 is not fully disclosed yet, our team has been tracking this in the last few days and got quite some insight, but we will not discuss it here right now.(stay tuned for our update later).\n",
      " For example, during last recent 12 hours we have seen 263,250 different IPs scanning port 37215, and 19,403 IPs scanning port 52869.\n",
      " We analyzed another Mirai variant called “Miori,” which is being spread through a Remote Code Execution (RCE) vulnerability in the PHP framework, ThinkPHP.\n",
      " For its arrival method, the IoT botnet uses the said exploit that affects ThinkPHP versions prior to 5.0.23 and 5.1.31.\n",
      " Our own analysis revealed that the cybercriminals behind Miori used the ThinkPHP RCE to make vulnerable machines download and execute their malware.\n",
      " With Mirai Comes Miori: IoT Botnet Delivered via ThinkPHP Remote Code Execution Exploit.\n",
      " Miori now spreading via Remote code execution vulnerability in\n",
      " the PHP framework called ThinkPHP and the exploit for this vulnerability is completely new that affected ThinkPHP versions prior to 5.0.23 and 5.1.31.\n",
      " Apart from this, several Mirai malware various are being distributed by exploiting the same ThinkPHP RCE vulnerability.\n",
      " The Miori bot borrows the code from the dreaded Mirai malware and it first appeared in the threat landscape in late 2018 when the bot was spread by exploiting a ThinkPHP remote code execution vulnerability after the exploit code was made publicly available. \n",
      " Among the list of devices targeted by the Wicked Mirai are Netgear DGN1000 and DGN2200 v1 routers (also used by Reaper botnet).\n",
      " Specifically, port 8080 brings an exploit for a flaw in Netgear DGN1000 and DGN2200 v1 routers (also used by the Reaper botnet).\n",
      " On port 8080, the malware uses Netgear DGN1000 and DGN2200 v1 router exploits (also used by Reaper botnet).\n",
      " If connected to Port 8080, the malware will use a remote code execution (RCE) Netgear exploit which works on DGN1000 and DGN2200 v1 routers, and is the same tool used by the Reaper botnet to compromise target machines.\n",
      " On port 8080, Netgear DGN1000 and DGN2200 v1 router exploits are used, a CCTV-DVR remote code execution exploit is used on port 81, \n",
      " Below is a list of devices targeted by the Wicked Mirai; Port 8080: Netgear DGN1000 and DGN2200 v1 routers.\n",
      " Devices Targeted by Wicked include Netgear DGN1000 and DGN2200 v1 routers on Port 8080.\n",
      " When connected to Port 8080, the malware uses a remote code execution (RCE) Netgear exploit which works on DGN1000 and DGN2200 v1 routers.\n",
      " Emotet has used ports 20, 22, 80, 443, 8080, and 8443.\n",
      " The dissection of this suspicious file, known by Symantec as Trojan.Emotet, shows common elements such as: TCP communication over ports 80, 8080, 22,990.\n",
      " Emotet connects to C2 servers on various ports including, but not limited to: 20, 80, 443, 7080, 8443, and 50000\n",
      " We can see that port 80 returns the same universal 404 error as the hacked server did on the Emotet port, so most likely this is the port it forwards traffic to.\n",
      " The C2 servers can receive these communications on port 80, which is the default port for HTTP, but may also receive them on port 443, which is the default for HTTPS traffic, or on a number of other nonstandard ports, including but not limited to 7080, 8080, 8090, 50000, or several others. \n",
      " The initial executable appears to launch an application application lpiograd.exe, seen in Figure 2 and then looks to make outbound network connections on port 80, to a single command and control (CnC) server\n",
      " Emotet Trojan used commonly used port for communication (e.g TCP port 80, 8080, 443, 8443, 7080, 20, 22, 53)\n",
      " 5.101.138.188 port 80 - sloegincottage.co.uk - GET /tyoinvur/En_us/Clients/092018/\n",
      " 108.167.161.63 port 80 - louisianaplating.com - GET /18Ge0wDF\n",
      " 50.62.194.30 port 80 - c-t.com.au - GET /PspAMbuSd2\n",
      " 37.120.175.15 port 80 - Attempted TCP connections, no response from the server\n",
      " Based on our visibility over the last 30 days, 14 IPs communicated with 5.45.65[.]126 on port 80/TCP, 13 of which were validated Tier 1 C2s. \n",
      " Traffic observed to 212.8.242[.]201 was similar, with 23 IPs communicating on port 80/TCP, 22 of which were validated Tier 1 C2s.\n",
      " One technique is by simply swapping a .doc file with a .docx, which can make static detection of maldocs more difficult due to the compression native in the .docx format. \n",
      " While the attached documents all have a .doc extension, they are in fact .dotm, .docx, and other document file types, which enables them to successfully hide the embedded objects as ActiveX objects rather than typical “Form” objects whose metadata can be easily accessed in an opened document.\n",
      " [F00000000][T01D19C127D907AA0][O00000000]*%USERPROFILE%\\Desktop\\New Microsoft Word Document.docx\n",
      " However, the document in this case is not the usual .doc or .docx but rather an XML file masquerading as a .doc, and the macro in this instance makes use of the Shapes feature,\n",
      " Cybercriminals are attaching .pdf, .mp4, and .docx files to emails that purport to have information on how people can protect themselves from the virus, updates on its spread and even virus detection procedures. \n",
      " The Emotet malware will disguise itself as a website hyperlink or regular file attachment in an email (.doc, .docx, .PDF), that will include hidden code that enables cybercriminals to gain control of your computer and other devices, often leading to the deployment of ransomware.\n",
      " Known as Emotet, the trojan is attached under the guise of pdf, mp4 and docx files.\n",
      " Emotet is most commonly spread via malicious emails containing Microsoft Office attachments, usually Microsoft Word (.doc, .docx) documents.\n",
      " Microsoft will also force a different file extension (.docm instead of .docx for new documents containing macros).\n",
      " It is most commonly spread via Microsoft Office attachments, usually Microsoft Word (.doc, .docx) documents.\n",
      " In HKEY_CURRENT_USER\\Software\\Microsoft\\Windows\\CurrentVersion\\Explorer\\FileExts\\.docx\\OpenWithProgids\n",
      " Also, security experts at Kaspersky identified this malware spreading in form of pdf, mp4 and Docx files.\n",
      " According to security firm Kaspersky, attackers are using several types of malicious files, including pdf, mp4 and docx with “coronavirus” theme to spread malware.\n",
      " In particular, the registry key HKLM\\Software\\Clients\\Mail\\Microsoft Outlook is accessed, and the value DllPathEx—the path to the mapi32.dll module—is expected to be defined.\n",
      " Old Emotet malware checks the configuration module of the email client especially the registry key HKLM\\Software\\Clients\\Mail\\Microsoft Outlookto exfiltrate the Email data.\n",
      " The first step to check if it is infected is to look at the configuration - the path to the DllPathEx-mapi32.dll module, especially the HKLM\\Software\\Clients\\Mail\\Microsoft Outlook access registry key. \n",
      " When this module is executed, it checks for the presence of registry key HKLM\\Software\\Clients\\Mail\\Microsoft\n",
      " Outlook and then checks value of DLLPathEx i.e. the path to the mapi32.dll module. \n",
      " Provides information about used mail client (read from “HKLM\\Software\\Clients\\Mail” registry key value) and if it’s Microsoft Outlook and it’s MAPI DLL is 64-bit, name is followed by ” x64″ suffix.\n",
      " Emotet's module when executed checks for the presence registry key HKLM\\Software\\Clients\\Mail\\Microsoft Outlook and accesses, expecting the DllPathEx value to be defined.\n",
      " In both attachment and malicious URL infection chains, the attachment or downloaded file via malicious URL can use various file extensions (e.g .doc, .exe, .pdf, .xml).\n",
      " It is usually installed when you open a spam email attachment or click on a malicious link in a PDF.   \n",
      " This threat is distributed from spammed fake invoice email messages with a .pdf file attachment. \n",
      " The .pdf file attachment has a link that points to a JS file, which, when you are socially-engineered to click, downloads and executes the banking trojan. \n",
      " The email also contains a .PDF file attachment where users are enticed to click on.\n",
      " Delivered in ZIP file attached to a phishing email or hyperlink in PDF.\n",
      " Emotet spam sample disguised as a fake invoice in PDF format.\n",
      " To avoid raising suspicion, the attackers use PDF document icons and long names that make the file extension more difficult to notice.\n",
      " The MS-ISAC recently observed a malicious email campaign delivering the Emotet banking Trojan via a malicious PDF in the United States.\n",
      " This appears to be the first time Emotet has targeted the United States and used a PDF file attachment.\n",
      " We confirmed the malicious PDF attachments as directing recipients to URLs that downloaded the Emotet malware.\n",
      " Upgraded Emotet also leverages DKIM controls to bypass spam controls, uses PDFs to trigger malicious links, and functions as a modular attack platform.\n",
      " Cylance has seen PDFs, XML Documents, and .js files all used in malicious Emotet spam. \n"
     ]
    }
   ],
   "source": [
    "with open(\"maltext.txt\", 'r', encoding='utf-8') as f:\n",
    "    lines = f.readlines()\n",
    "content = ' '.join(lines)\n",
    "doc = nlp(content)\n",
    "print(doc)"
   ]
  },
  {
   "cell_type": "code",
   "execution_count": 54,
   "metadata": {},
   "outputs": [
    {
     "name": "stdout",
     "output_type": "stream",
     "text": [
      "The attacks associated with the new botnet attempted to exploit the CVE-2017-17215 zero-day vulnerability in the Huawei home router caused by the fact that the TR-064 technical report standard, which was designed for local network configuration, was exposed to WAN through port 37215 (UPnP – Universal Plug and Play).\n",
      " \n",
      "About 12 hours ago (2017-12-05 11:57 AM GMT+8), we noticed a new version of Satori (a mirai variant which we named Satori), starting to propagate very quickly on port 37215 and 52869.\n",
      " \n",
      "Two new exploits, which work on port 37215 and 52869 have been added, see below for more details.\n",
      " \n",
      "Due to the worm like behavior, we all should be on the lookout for the port 37215 and 52869 scan traffic.\n",
      " \n",
      "For those who don’t have the visibility, feel free to check out our free Scanmon system for port 37215 and 52869, or ISC port pages for 37215 and 52869.\n",
      " \n",
      "As can be seen from the following picture, the bot will scan port 37215 and 52869\n",
      "randomly, determined by the remainder of a random integer mod 3.\n",
      " \n",
      "During the scanning, Satori will utilize two different exploits, one on port 37215, while the other on 52869.\n",
      " \n",
      "The one on port 37215 is not fully disclosed yet, our team has been tracking this in the last few days and got quite some insight, but we will not discuss it here right now.(stay tuned for our update later).\n",
      " \n",
      "For example, during last recent 12 hours we have seen 263,250 different IPs scanning port 37215, and 19,403 IPs scanning port 52869.\n",
      " \n",
      "We analyzed another Mirai variant called “Miori,” which is being spread through a Remote Code Execution (RCE) vulnerability in the PHP framework, ThinkPHP.\n",
      " \n",
      "For its arrival method, the IoT botnet uses the said exploit that affects ThinkPHP versions prior to 5.0.23 and 5.1.31.\n",
      " \n",
      "Our own analysis revealed that the cybercriminals behind Miori used the ThinkPHP RCE to make vulnerable machines download and execute their malware.\n",
      " \n",
      "With Mirai\n",
      "Comes Miori: IoT Botnet Delivered via ThinkPHP Remote Code Execution Exploit.\n",
      " \n",
      "Miori now spreading via Remote code execution vulnerability in\n",
      " the PHP framework called ThinkPHP and the exploit for this vulnerability is completely new\n",
      "that affected ThinkPHP versions prior to 5.0.23 and 5.1.31.\n",
      " \n",
      "Apart from this, several Mirai malware various are being distributed by exploiting the same ThinkPHP RCE vulnerability.\n",
      " \n",
      "The Miori bot borrows the code from the dreaded Mirai malware and it first appeared in the threat landscape in late 2018 when the bot was spread by exploiting a ThinkPHP remote code execution vulnerability after the exploit code was made publicly available. \n",
      " \n",
      "Among the list of devices targeted by the Wicked Mirai are Netgear DGN1000 and DGN2200 v1 routers (also used by Reaper botnet).\n",
      " \n",
      "Specifically, port 8080 brings an exploit for a flaw in Netgear DGN1000 and DGN2200 v1 routers (also used by the Reaper botnet).\n",
      " \n",
      "On port 8080, the malware uses Netgear DGN1000 and DGN2200 v1 router exploits (also used by Reaper botnet).\n",
      " \n",
      "If connected to Port 8080, the malware will use a remote code execution (RCE)\n",
      "Netgear exploit which works on DGN1000 and DGN2200 v1 routers, and is the same tool used by the Reaper botnet to compromise target machines.\n",
      " \n",
      "On port 8080, Netgear DGN1000 and DGN2200 v1 router exploits are used, a CCTV-DVR remote code execution exploit is used on port 81, \n",
      " Below is a list of devices targeted by the Wicked Mirai; Port 8080:\n",
      "Netgear DGN1000 and DGN2200 v1 routers.\n",
      " \n",
      "Devices Targeted by Wicked include Netgear DGN1000 and DGN2200 v1 routers on Port 8080.\n",
      " \n",
      "When connected to Port 8080, the malware uses a remote code execution (RCE)\n",
      "Netgear exploit which works on DGN1000 and DGN2200 v1 routers.\n",
      " \n",
      "Emotet has used ports 20, 22, 80, 443, 8080, and 8443.\n",
      " \n",
      "The dissection of this suspicious file, known by Symantec as Trojan.\n",
      "Emotet, shows common elements such as: TCP communication over ports 80, 8080, 22,990.\n",
      " \n",
      "Emotet connects to C2 servers on various ports including, but not limited to: 20, 80, 443, 7080, 8443, and 50000\n",
      " \n",
      "We can see that port 80 returns the same universal 404 error as the hacked server did on the Emotet port, so most likely this is the port it forwards traffic to.\n",
      " \n",
      "The C2 servers can receive these communications on port 80, which is the default port for HTTP, but may also receive them on port 443, which is the default for HTTPS traffic, or on a number of other nonstandard ports, including but not limited to 7080, 8080, 8090, 50000, or several others. \n",
      " \n",
      "The initial executable appears to launch an application application lpiograd.exe, seen in Figure 2 and then looks to make outbound network connections on port 80, to a single command and control (CnC)\n",
      "server\n",
      " Emotet Trojan used commonly used port for communication\n",
      "(e.g TCP port 80, 8080, 443, 8443, 7080, 20, 22, 53)\n",
      " 5.101.138.188\n",
      "port 80 - sloegincottage.co.uk - GET /tyoinvur/En_us/Clients/092018/\n",
      " \n",
      "108.167.161.63 port\n",
      "80 - louisianaplating.com - GET\n",
      "/18Ge0wDF\n",
      " \n",
      "50.62.194.30 port 80 - c-t.com.au - GET /PspAMbuSd2\n",
      " \n",
      "37.120.175.15 port 80 - Attempted TCP connections, no response from the server\n",
      " Based on our visibility over the last 30 days\n",
      ", 14 IPs communicated with 5.45.65[.]126 on port 80/TCP, 13 of which were validated Tier 1 C2s. \n",
      " \n",
      "Traffic observed to 212.8.242[.]201 was similar, with 23 IPs communicating on port 80/TCP, 22 of which were validated\n",
      "Tier 1 C2s.\n",
      " \n",
      "One technique is by simply swapping a .doc file with a .docx, which can make static detection of maldocs more difficult due to the compression native in the .docx format. \n",
      " \n",
      "While the attached documents all have a .doc extension, they are in fact .dotm, .docx, and other document file types, which enables them to successfully hide the embedded objects as ActiveX objects rather than typical “Form” objects whose metadata can be easily accessed in an opened document.\n",
      " \n",
      "[F00000000][T01D19C127D907AA0][O00000000]*%USERPROFILE%\\Desktop\\New Microsoft Word Document.docx\n",
      " \n",
      "However, the document in this case is not the usual .doc\n",
      "or .docx but rather an XML file masquerading as a .doc, and the macro in this instance makes use of the Shapes feature,\n",
      " Cybercriminals are attaching .pdf,\n",
      ".mp4, and .docx files to emails that purport to have information on how people can protect themselves from the virus\n",
      ", updates on its spread and even virus detection procedures. \n",
      " \n",
      "The Emotet malware will disguise itself as a website hyperlink or regular file attachment in an email (.doc, .docx, .PDF), that will include hidden code that enables cybercriminals to gain control of your computer and other devices, often leading to the deployment of ransomware.\n",
      " \n",
      "Known as Emotet, the trojan is attached under the guise of pdf, mp4 and docx files.\n",
      " \n",
      "Emotet is most commonly spread via malicious emails containing Microsoft Office attachments,\n",
      "usually Microsoft Word (.doc, .docx) documents.\n",
      " \n",
      "Microsoft will also force a different file extension (.docm instead of .docx for new documents containing macros).\n",
      " \n",
      "It is most commonly spread via Microsoft Office attachments, usually Microsoft Word (.doc, .docx) documents.\n",
      " \n",
      "In HKEY_CURRENT_USER\\Software\\Microsoft\\Windows\\CurrentVersion\\Explorer\\FileExts\\.docx\\OpenWithProgids\n",
      " \n",
      "Also, security experts at Kaspersky identified this malware spreading in form of pdf, mp4 and Docx files.\n",
      " \n",
      "According to security firm Kaspersky, attackers are using several types of malicious files, including pdf, mp4 and docx with “coronavirus” theme to spread malware.\n",
      " \n",
      "In particular, the registry key HKLM\\Software\\Clients\\Mail\\Microsoft Outlook is accessed, and the value DllPathEx—the path to the mapi32.dll module—is expected to be defined.\n",
      " \n",
      "Old Emotet malware checks the configuration module of the email client\n",
      "especially the registry key HKLM\\Software\\Clients\\Mail\\Microsoft Outlookto exfiltrate the Email data.\n",
      " \n",
      "The first step to check if it is infected is to look at the configuration - the path to the DllPathEx-mapi32.dll module, especially the HKLM\\Software\\Clients\\Mail\\Microsoft Outlook access registry key. \n",
      " \n",
      "When this module is executed, it checks for the presence of registry key HKLM\\Software\\Clients\\Mail\\Microsoft\n",
      " Outlook and then checks value of DLLPathEx i.e. the path to the mapi32.dll module. \n",
      " \n",
      "Provides information about used mail client (read from “HKLM\\Software\\Clients\\Mail” registry key value)\n",
      "and if it’s Microsoft Outlook and it’s MAPI DLL is 64-bit, name is followed by ” x64″ suffix.\n",
      " \n",
      "Emotet's module when executed checks for the presence registry key HKLM\\Software\\Clients\\Mail\\Microsoft Outlook and accesses, expecting the DllPathEx value to be defined.\n",
      " \n",
      "In both attachment and malicious URL infection chains, the attachment or downloaded file via malicious URL can use various file extensions (\n",
      "e.g .doc, .exe, .pdf, .xml).\n",
      " \n",
      "It is usually installed when you open a spam email attachment or click on a malicious link in a PDF.   \n",
      " \n",
      "This threat is distributed from spammed fake invoice email messages with a .pdf file attachment. \n",
      " \n",
      "The .pdf file attachment has a link that points to a JS file, which, when you are socially-engineered to click, downloads and executes the banking trojan. \n",
      " \n",
      "The email also contains a .PDF file attachment where users are enticed to click on.\n",
      " \n",
      "Delivered in ZIP file attached to a phishing email or hyperlink in PDF.\n",
      " \n",
      "Emotet spam sample disguised as a fake invoice in PDF format.\n",
      " \n",
      "To avoid raising suspicion, the attackers use PDF document icons and long names that make the file extension more difficult to notice.\n",
      " \n",
      "The MS-ISAC recently observed a malicious email campaign delivering the Emotet banking Trojan via a malicious PDF in the United States.\n",
      " \n",
      "This appears to be the first time Emotet has targeted the United States and used a PDF file attachment.\n",
      " \n",
      "We confirmed the malicious PDF attachments as directing recipients to URLs that downloaded the Emotet malware.\n",
      " \n",
      "Upgraded Emotet also leverages DKIM controls to bypass spam controls, uses PDFs to trigger malicious links, and functions as a modular attack platform.\n",
      " \n",
      "Cylance has seen PDFs, XML Documents, and .js files all used in malicious Emotet spam.\n"
     ]
    }
   ],
   "source": [
    "for sents in doc.sents:\n",
    "    print(sents.text)"
   ]
  },
  {
   "cell_type": "code",
   "execution_count": 55,
   "metadata": {},
   "outputs": [
    {
     "name": "stdout",
     "output_type": "stream",
     "text": [
      "[[attacks, associated, new, botnet, attempted, exploit, CVE-2017, day, vulnerability, Huawei, home, router, caused, fact, TR-064, report, standard, designed, network, configuration, exposed, WAN, port, UPnP, Universal, Plug, Play], [hours, GMT+8, noticed, version, Satori, mirai, named, Satori, starting, propagate, port], [exploits, work, port, added, details], [worm, behavior, lookout, port, traffic], [visibility, feel, check, Scanmon, system, port, ISC, port, pages], [seen, picture, bot, scan, port], [determined, remainder, integer, mod], [scanning, Satori, utilize, exploits, port], [port, disclosed, team, tracking, days, got, insight, discuss, now.(stay, tuned, update], [example, hours, seen, IPs, scanning, port, IPs, scanning, port], [analyzed, Mirai, variant, called, Miori, spread, Remote, Code, Execution, RCE, vulnerability, PHP, framework], [arrival, method, IoT, botnet, uses, said, exploit, affects, versions], [analysis, revealed, cybercriminals, Miori, ThinkPHP, RCE, machines, download, execute, malware], [Mirai], [Comes, Miori, IoT, Botnet, Delivered, Remote, Code, Execution, Exploit], [Miori, spreading, code, execution, vulnerability, PHP, framework, called, ThinkPHP, exploit, vulnerability], [affected, versions], [Mirai, malware, distributed, exploiting, RCE, vulnerability], [Miori, bot, borrows, code, Mirai, malware, appeared, threat, landscape, bot, spread, exploiting, code, execution, vulnerability, exploit, code], [list, devices, targeted, Wicked, Mirai, Netgear, DGN1000, DGN2200, v1, routers, Reaper, botnet], [port, brings, exploit, flaw, Netgear, DGN1000, DGN2200, v1, routers, Reaper, botnet], [port, uses, Netgear, DGN1000, DGN2200, v1, router, exploits, Reaper, botnet], [connected, Port, malware, use, code, execution, RCE], [Netgear, exploit, works, DGN1000, DGN2200, v1, routers, tool, Reaper, botnet, compromise, target, machines], [port, Netgear, DGN1000, DGN2200, v1, router, exploits, CCTV, DVR, code, execution, exploit, port, list, devices, targeted, Wicked, Mirai, Port], [Netgear, DGN1000, DGN2200, v1, routers], [Devices, Targeted, Wicked, include, Netgear, DGN1000, DGN2200, v1, routers, Port], [connected, Port, malware, uses, code, execution, RCE], [Netgear, exploit, works, DGN1000, DGN2200, v1, routers], [Emotet, ports], [dissection, file, known, Symantec, Trojan], [Emotet, shows, elements, TCP, communication, ports], [Emotet, connects, C2, servers, ports, including, limited], [port, returns, error, hacked, server, Emotet, port, port, traffic], [C2, servers, receive, communications, port, default, port, HTTP, receive, port, default, HTTPS, traffic, number, ports, including, limited], [executable, appears, launch, application, application, lpiograd.exe, seen, Figure, looks, network, connections, port, command, control, CnC], [server, Emotet, Trojan, port, communication], [e.g, TCP, port], [port, sloegincottage.co.uk, /tyoinvur, En_us, Clients/092018/], [port], [louisianaplating.com], [], [50.62.194.30, port, c-t.com.au], [port, Attempted, TCP, connections, response, server, Based, visibility, days], [IPs, communicated, port, TCP, validated, Tier, C2s], [Traffic, observed, IPs, communicating, port, TCP, validated], [Tier, C2s], [technique, swapping, .doc, file, .docx, detection, maldocs, compression, format], [attached, documents, .doc, extension, fact, .dotm, .docx, document, file, types, enables, hide, embedded, objects, ActiveX, objects, Form, objects, metadata, accessed, opened, document], [F00000000][T01D19C127D907AA0][O00000000]*%USERPROFILE%\\Desktop\\New, Microsoft, Word, Document.docx], [document, case], [.docx, XML, file, masquerading, .doc, macro, instance, makes, use, Shapes, feature, Cybercriminals, attaching, .pdf], [.mp4, .docx, files, emails, purport, information, people, protect, virus], [updates, spread, virus, detection, procedures], [Emotet, malware, disguise, website, hyperlink, file, attachment, email, .doc, .docx, .PDF, include, code, enables, cybercriminals, gain, control, computer, devices, leading, deployment, ransomware], [Known, Emotet, trojan, attached, guise, pdf, mp4, docx, files], [Emotet, spread, emails, containing, Microsoft, Office, attachments], [Microsoft, Word, .doc, documents], [Microsoft, force, file, extension, .docm, .docx, documents, containing, macros], [spread, Microsoft, Office, attachments, Microsoft, Word, .doc, documents], [HKEY_CURRENT_USER\\Software\\Microsoft\\Windows\\CurrentVersion\\Explorer\\FileExts\\.docx\\OpenWithProgids], [security, experts, Kaspersky, identified, spreading, form, pdf, mp4, Docx, files], [According, security, firm, Kaspersky, attackers, types, files, including, pdf, mp4, docx, coronavirus, theme, spread, malware], [registry, key, HKLM\\Software\\Clients\\Mail\\Microsoft, Outlook, accessed, value, path, mapi32.dll, module, expected, defined], [Old, Emotet, malware, checks, configuration, module, email, client], [registry, key, HKLM\\Software\\Clients\\Mail\\Microsoft, Outlookto, exfiltrate, Email, data], [step, check, infected, look, configuration, path, DllPathEx, mapi32.dll, module, HKLM\\Software\\Clients\\Mail\\Microsoft, Outlook, access, registry, key], [module, executed, checks, presence, registry, key, HKLM\\Software\\Clients\\Mail\\Microsoft, Outlook, checks, value, DLLPathEx, path, mapi32.dll, module], [Provides, information, mail, client, read, HKLM\\Software\\Clients\\Mail, registry, value], [Microsoft, Outlook, MAPI, DLL, followed, x64″, suffix], [Emotet, module, executed, checks, presence, registry, key, HKLM\\Software\\Clients\\Mail\\Microsoft, Outlook, accesses, expecting, value, defined], [attachment, URL, infection, chains, attachment, downloaded, file, URL, use, file, extensions], [e.g, .doc, .exe, .pdf, .xml], [installed, open, spam, email, attachment, click, link, PDF], [threat, distributed, spammed, invoice, email, messages, .pdf, file, attachment], [.pdf, file, attachment, link, points, JS, file, engineered, click, downloads, executes, banking, trojan], [email, contains, .PDF, file, attachment, users, enticed, click], [Delivered, ZIP, file, attached, phishing, email, hyperlink, PDF], [Emotet, spam, sample, disguised, invoice, PDF, format], [avoid, raising, suspicion, attackers, use, PDF, document, icons, names, file, extension, notice], [MS, ISAC, observed, email, campaign, delivering, Emotet, banking, Trojan, PDF, United, States], [appears, time, Emotet, targeted, United, States, PDF, file, attachment], [confirmed, PDF, attachments, directing, recipients, URLs, downloaded, Emotet, malware], [Upgraded, Emotet, leverages, DKIM, controls, bypass, spam, controls, uses, PDFs, trigger, links, functions, attack, platform], [Cylance, seen, PDFs, XML, Documents, .js, files, Emotet, spam]] 85\n"
     ]
    }
   ],
   "source": [
    "candidate_pos = ['NOUN', 'PROPN', 'VERB']\n",
    "sentences = []\n",
    "\n",
    "for sent in doc.sents:\n",
    "    selected_words = []\n",
    "    for token in sent:\n",
    "        # print(token.pos_, token.is_stop)\n",
    "        if token.pos_ in candidate_pos and token.is_stop is False:\n",
    "            selected_words.append(token)\n",
    "    sentences.append(selected_words)\n",
    "\n",
    "print(sentences, len(sentences))"
   ]
  },
  {
   "cell_type": "code",
   "execution_count": 91,
   "metadata": {},
   "outputs": [],
   "source": [
    "from collections import OrderedDict\n",
    "import numpy as np\n",
    "import spacy\n",
    "from spacy.lang.en.stop_words import STOP_WORDS\n",
    "import en_core_web_sm\n",
    "\n",
    "nlp = en_core_web_sm.load()\n",
    "\n",
    "class TextRank4Keyword():\n",
    "    \"\"\"Extract keywords from text\"\"\"\n",
    "    \n",
    "    def __init__(self):\n",
    "        self.d = 0.85 # damping coefficient, usually is .85\n",
    "        self.min_diff = 1e-5 # convergence threshold\n",
    "        self.steps = 10 # iteration steps\n",
    "        self.node_weight = None # save keywords and its weight\n",
    "\n",
    "    \n",
    "    def set_stopwords(self, stopwords):  \n",
    "        \"\"\"Set stop words\"\"\"\n",
    "        for word in STOP_WORDS.union(set(stopwords)):\n",
    "            lexeme = nlp.vocab[word]\n",
    "            lexeme.is_stop = True\n",
    "    \n",
    "    def sentence_segment(self, doc, candidate_pos, lower):\n",
    "        \"\"\"Store those words only in cadidate_pos\"\"\"\n",
    "        sentences = []\n",
    "        for sent in doc.sents:\n",
    "            selected_words = []\n",
    "            for token in sent:\n",
    "                # Store words only with cadidate POS tag\n",
    "                if token.pos_ in candidate_pos and token.is_stop is False:\n",
    "                    if lower is True:\n",
    "                        selected_words.append(token.text.lower())\n",
    "                    else:\n",
    "                        selected_words.append(token.text)\n",
    "            sentences.append(selected_words)\n",
    "        return sentences\n",
    "        \n",
    "    def get_vocab(self, sentences):\n",
    "        \"\"\"Get all tokens\"\"\"\n",
    "        vocab = OrderedDict()\n",
    "        i = 0\n",
    "        for sentence in sentences:\n",
    "            for word in sentence:\n",
    "                if word not in vocab:\n",
    "                    vocab[word] = i\n",
    "                    i += 1\n",
    "        return vocab\n",
    "    \n",
    "    def get_token_pairs(self, window_size, sentences):\n",
    "        \"\"\"Build token_pairs from windows in sentences\"\"\"\n",
    "        token_pairs = list()\n",
    "        for sentence in sentences:\n",
    "            for i, word in enumerate(sentence):\n",
    "                for j in range(i+1, i+window_size):\n",
    "                    if j >= len(sentence):\n",
    "                        break\n",
    "                    pair = (word, sentence[j])\n",
    "                    if pair not in token_pairs:\n",
    "                        token_pairs.append(pair)\n",
    "        return token_pairs\n",
    "        \n",
    "    def symmetrize(self, a):\n",
    "        return a + a.T - np.diag(a.diagonal())\n",
    "    \n",
    "    def get_matrix(self, vocab, token_pairs):\n",
    "        \"\"\"Get normalized matrix\"\"\"\n",
    "        # Build matrix\n",
    "        vocab_size = len(vocab)\n",
    "        g = np.zeros((vocab_size, vocab_size), dtype='float')\n",
    "        for word1, word2 in token_pairs:\n",
    "            i, j = vocab[word1], vocab[word2]\n",
    "            g[i][j] = 1\n",
    "            \n",
    "        # Get Symmeric matrix\n",
    "        g = self.symmetrize(g)\n",
    "        \n",
    "        # Normalize matrix by column\n",
    "        norm = np.sum(g, axis=0)\n",
    "        g_norm = np.divide(g, norm, where=norm!=0) # this is ignore the 0 element in norm\n",
    "        \n",
    "        return g_norm\n",
    "\n",
    "    \n",
    "    def get_keywords(self, number=10):\n",
    "        \"\"\"Print top number keywords\"\"\"\n",
    "        allans = []\n",
    "        node_weight = OrderedDict(sorted(self.node_weight.items(), key=lambda t: t[1], reverse=True))\n",
    "        for i, (key, value) in enumerate(node_weight.items()):\n",
    "#             print(key + ' - ' + str(value))\n",
    "            ans = key + ' - ' + str(value)\n",
    "            allans.append(ans)\n",
    "            if i > number:\n",
    "                break\n",
    "        return allans\n",
    "        \n",
    "    def analyze(self, text, \n",
    "                candidate_pos=['NOUN', 'PROPN', 'NUM'], \n",
    "                window_size=4, lower=False, stopwords=list()):\n",
    "        \"\"\"Main function to analyze text\"\"\"\n",
    "        \n",
    "        # Set stop words\n",
    "        self.set_stopwords(stopwords)\n",
    "        \n",
    "        # Pare text by spaCy\n",
    "        doc = nlp(text)\n",
    "        \n",
    "        # Filter sentences\n",
    "        sentences = self.sentence_segment(doc, candidate_pos, lower) # list of list of words\n",
    "        \n",
    "        # Build vocabulary\n",
    "        vocab = self.get_vocab(sentences)\n",
    "        \n",
    "        # Get token_pairs from windows\n",
    "        token_pairs = self.get_token_pairs(window_size, sentences)\n",
    "        \n",
    "        # Get normalized matrix\n",
    "        g = self.get_matrix(vocab, token_pairs)\n",
    "        \n",
    "        # Initionlization for weight(pagerank value)\n",
    "        pr = np.array([1] * len(vocab))\n",
    "        \n",
    "        # Iteration\n",
    "        previous_pr = 0\n",
    "        for epoch in range(self.steps):\n",
    "            pr = (1-self.d) + self.d * np.dot(g, pr)\n",
    "            if abs(previous_pr - sum(pr))  < self.min_diff:\n",
    "                break\n",
    "            else:\n",
    "                previous_pr = sum(pr)\n",
    "\n",
    "        # Get weight for each node\n",
    "        node_weight = dict()\n",
    "        for word, index in vocab.items():\n",
    "            node_weight[word] = pr[index]\n",
    "        \n",
    "        self.node_weight = node_weight"
   ]
  },
  {
   "cell_type": "code",
   "execution_count": 92,
   "metadata": {},
   "outputs": [
    {
     "data": {
      "text/plain": [
       "['port - 7.92753676044077',\n",
       " 'file - 5.12354157537708',\n",
       " 'Emotet - 4.390962629052478',\n",
       " '80 - 4.1796382207502925',\n",
       " '37215 - 3.102278261398497',\n",
       " '.doc - 2.6395333990358423',\n",
       " 'email - 2.567319550880556',\n",
       " 'PDF - 2.5312661647572186',\n",
       " 'exploit - 2.509049025713741',\n",
       " 'code - 2.4569210720766845',\n",
       " '8080 - 2.4461717955760798',\n",
       " 'malware - 2.402024034351282']"
      ]
     },
     "execution_count": 92,
     "metadata": {},
     "output_type": "execute_result"
    }
   ],
   "source": [
    "tr4w = TextRank4Keyword()\n",
    "tr4w.analyze(content, candidate_pos = ['NOUN', 'PROPN', 'NUM'], window_size=4, lower=False)\n",
    "tr4w.get_keywords(10)"
   ]
  },
  {
   "cell_type": "code",
   "execution_count": 93,
   "metadata": {},
   "outputs": [
    {
     "data": {
      "text/plain": [
       "['port - 7.92753676044077',\n",
       " 'file - 5.12354157537708',\n",
       " 'Emotet - 4.390962629052478',\n",
       " '80 - 4.1796382207502925',\n",
       " '37215 - 3.102278261398497',\n",
       " '.doc - 2.6395333990358423',\n",
       " 'email - 2.567319550880556']"
      ]
     },
     "execution_count": 93,
     "metadata": {},
     "output_type": "execute_result"
    }
   ],
   "source": [
    "a = tr4w.get_keywords(5)\n",
    "a"
   ]
  },
  {
   "cell_type": "code",
   "execution_count": 85,
   "metadata": {},
   "outputs": [
    {
     "data": {
      "text/plain": [
       "['port - 9.19284380563609',\n",
       " 'file - 5.133954780338477',\n",
       " 'Emotet - 4.4817964246789',\n",
       " '.doc - 2.665007041755904',\n",
       " 'email - 2.5764201116060534',\n",
       " 'PDF - 2.5431762319014917',\n",
       " 'code - 2.4450875393429827']"
      ]
     },
     "execution_count": 85,
     "metadata": {},
     "output_type": "execute_result"
    }
   ],
   "source": [
    "a"
   ]
  },
  {
   "cell_type": "code",
   "execution_count": null,
   "metadata": {},
   "outputs": [],
   "source": []
  },
  {
   "cell_type": "code",
   "execution_count": 101,
   "metadata": {},
   "outputs": [
    {
     "data": {
      "text/plain": [
       "['Microsoft - 1.7967569444444442', 'attachments - 1.1626333333333334']"
      ]
     },
     "execution_count": 101,
     "metadata": {},
     "output_type": "execute_result"
    }
   ],
   "source": [
    "tr4w = TextRank4Keyword()\n",
    "tr4w.analyze(\"Emotet is most commonly spread via malicious emails containing Microsoft Office attachments, usually Microsoft Word (.doc, .docx) documents.\", candidate_pos = ['NOUN', 'PROPN', 'NUM'], window_size=4, lower=False)\n",
    "b = tr4w.get_keywords(0)\n",
    "b"
   ]
  },
  {
   "cell_type": "code",
   "execution_count": null,
   "metadata": {},
   "outputs": [],
   "source": []
  },
  {
   "cell_type": "code",
   "execution_count": 118,
   "metadata": {},
   "outputs": [],
   "source": [
    "mal = nlp(\"About 12 hours ago (2017-12-05 11:57 AM GMT+8), we noticed a new version of Satori (a mirai variant which we named Satori), starting to propagate very quickly on port 37215 and 52869.\")"
   ]
  },
  {
   "cell_type": "code",
   "execution_count": 119,
   "metadata": {
    "scrolled": true
   },
   "outputs": [
    {
     "name": "stdout",
     "output_type": "stream",
     "text": [
      "About ADV\n",
      "12 NUM\n",
      "hours NOUN\n",
      "ago ADV\n",
      "( PUNCT\n",
      "2017 NUM\n",
      "- PUNCT\n",
      "12 NUM\n",
      "- SYM\n",
      "05 NUM\n",
      "11:57 NUM\n",
      "AM PROPN\n",
      "GMT+8 NOUN\n",
      ") PUNCT\n",
      ", PUNCT\n",
      "we PRON\n",
      "noticed VERB\n",
      "a DET\n",
      "new ADJ\n",
      "version NOUN\n",
      "of ADP\n",
      "Satori PROPN\n",
      "( PUNCT\n",
      "a DET\n",
      "mirai NOUN\n",
      "variant ADJ\n",
      "which DET\n",
      "we PRON\n",
      "named VERB\n",
      "Satori PROPN\n",
      ") PUNCT\n",
      ", PUNCT\n",
      "starting VERB\n",
      "to PART\n",
      "propagate VERB\n",
      "very ADV\n",
      "quickly ADV\n",
      "on ADP\n",
      "port NOUN\n",
      "37215 NUM\n",
      "and CCONJ\n",
      "52869 NUM\n",
      ". PUNCT\n"
     ]
    }
   ],
   "source": [
    "for word in mal:\n",
    "    print(word.text, word.pos_)"
   ]
  },
  {
   "cell_type": "code",
   "execution_count": 125,
   "metadata": {},
   "outputs": [
    {
     "data": {
      "text/plain": [
       "'People, including fictional'"
      ]
     },
     "execution_count": 125,
     "metadata": {},
     "output_type": "execute_result"
    }
   ],
   "source": [
    "spacy.explain('ORG')\n",
    "spacy.explain(\"PERSON\")"
   ]
  },
  {
   "cell_type": "code",
   "execution_count": 126,
   "metadata": {},
   "outputs": [
    {
     "data": {
      "text/html": [
       "<div class=\"entities\" style=\"line-height: 2.5; direction: ltr\">\n",
       "<mark class=\"entity\" style=\"background: #bfe1d9; padding: 0.45em 0.6em; margin: 0 0.25em; line-height: 1; border-radius: 0.35em;\">\n",
       "    About 12 hours ago\n",
       "    <span style=\"font-size: 0.8em; font-weight: bold; line-height: 1; border-radius: 0.35em; text-transform: uppercase; vertical-align: middle; margin-left: 0.5rem\">TIME</span>\n",
       "</mark>\n",
       " (\n",
       "<mark class=\"entity\" style=\"background: #bfe1d9; padding: 0.45em 0.6em; margin: 0 0.25em; line-height: 1; border-radius: 0.35em;\">\n",
       "    2017-12-05 11:57 AM GMT+8\n",
       "    <span style=\"font-size: 0.8em; font-weight: bold; line-height: 1; border-radius: 0.35em; text-transform: uppercase; vertical-align: middle; margin-left: 0.5rem\">DATE</span>\n",
       "</mark>\n",
       "), we noticed a new version of \n",
       "<mark class=\"entity\" style=\"background: #aa9cfc; padding: 0.45em 0.6em; margin: 0 0.25em; line-height: 1; border-radius: 0.35em;\">\n",
       "    Satori\n",
       "    <span style=\"font-size: 0.8em; font-weight: bold; line-height: 1; border-radius: 0.35em; text-transform: uppercase; vertical-align: middle; margin-left: 0.5rem\">PERSON</span>\n",
       "</mark>\n",
       " (a mirai variant which we named \n",
       "<mark class=\"entity\" style=\"background: #aa9cfc; padding: 0.45em 0.6em; margin: 0 0.25em; line-height: 1; border-radius: 0.35em;\">\n",
       "    Satori\n",
       "    <span style=\"font-size: 0.8em; font-weight: bold; line-height: 1; border-radius: 0.35em; text-transform: uppercase; vertical-align: middle; margin-left: 0.5rem\">PERSON</span>\n",
       "</mark>\n",
       "), starting to propagate very quickly on port \n",
       "<mark class=\"entity\" style=\"background: #bfe1d9; padding: 0.45em 0.6em; margin: 0 0.25em; line-height: 1; border-radius: 0.35em;\">\n",
       "    37215\n",
       "    <span style=\"font-size: 0.8em; font-weight: bold; line-height: 1; border-radius: 0.35em; text-transform: uppercase; vertical-align: middle; margin-left: 0.5rem\">DATE</span>\n",
       "</mark>\n",
       " and \n",
       "<mark class=\"entity\" style=\"background: #bfe1d9; padding: 0.45em 0.6em; margin: 0 0.25em; line-height: 1; border-radius: 0.35em;\">\n",
       "    52869\n",
       "    <span style=\"font-size: 0.8em; font-weight: bold; line-height: 1; border-radius: 0.35em; text-transform: uppercase; vertical-align: middle; margin-left: 0.5rem\">DATE</span>\n",
       "</mark>\n",
       ".</div>"
      ],
      "text/plain": [
       "<IPython.core.display.HTML object>"
      ]
     },
     "metadata": {},
     "output_type": "display_data"
    }
   ],
   "source": [
    "from spacy import displacy\n",
    "\n",
    "displacy.render(mal, style='ent', jupyter=True)"
   ]
  },
  {
   "cell_type": "code",
   "execution_count": null,
   "metadata": {},
   "outputs": [],
   "source": []
  }
 ],
 "metadata": {
  "kernelspec": {
   "display_name": "Python 3",
   "language": "python",
   "name": "python3"
  },
  "language_info": {
   "codemirror_mode": {
    "name": "ipython",
    "version": 3
   },
   "file_extension": ".py",
   "mimetype": "text/x-python",
   "name": "python",
   "nbconvert_exporter": "python",
   "pygments_lexer": "ipython3",
   "version": "3.6.10"
  }
 },
 "nbformat": 4,
 "nbformat_minor": 4
}
